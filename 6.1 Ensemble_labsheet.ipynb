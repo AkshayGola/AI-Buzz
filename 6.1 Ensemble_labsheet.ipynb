{
 "cells": [
  {
   "cell_type": "markdown",
   "metadata": {},
   "source": [
    "# Ensemble\n",
    "\n",
    "\n",
    "Ensemble learning helps improve machine learning results by combining several models. This approach allows the production of better predictive performance compared to a single model.\n",
    "\n",
    "Most ensemble methods use a single base learning algorithm i.e. learners of the same type, leading to homogeneous ensembles.\n",
    "\n",
    "There are also some methods that use heterogeneous learners, i.e. learners of different types, leading to heterogeneous ensembles. In order for ensemble methods to be more accurate than any of its individual members, the base learners have to be as accurate as possible and as diverse as possible.\n",
    "\n"
   ]
  },
  {
   "cell_type": "markdown",
   "metadata": {},
   "source": [
    "### Bagging\n",
    "\n",
    "Bagging stands for bootstrap aggregation. One way to reduce the variance of an estimate is to average together multiple estimates. For example, we can train M different trees on different subsets of the data (chosen randomly with replacement).\n",
    "\n",
    "Bagging uses bootstrap sampling to obtain the data subsets for training the base learners. For aggregating the outputs of base learners, bagging uses voting for classification and averaging for regression.\n",
    "\n",
    "### Boosting\n",
    "\n",
    "Boosting is a general ensemble method that creates a strong classifier from a number of weak classifiers.\n",
    "\n",
    "This is done by building a model from the training data, then creating a second model that attempts to correct the errors from the first model. Models are added until the training set is predicted perfectly or a maximum number of models are added.\n",
    "\n",
    "AdaBoost is one of the most successful boosting algorithms developed for binary classification."
   ]
  },
  {
   "cell_type": "markdown",
   "metadata": {},
   "source": [
    "### Libraries useful in Ensemble are listed below"
   ]
  },
  {
   "cell_type": "raw",
   "metadata": {},
   "source": [
    "To load dataset:    import pandas as pd\n",
    "Preprocessing:      from sklearn import preprocessing\n",
    "Decision Tree:      from sklearn.tree import DecisionTreeClassifier \n",
    "K-NN Classifier:    from sklearn.neighbors import KNeighborsClassifier\n",
    "Naive Bayes:        from sklearn.naive_bayes import GaussianNB\n",
    "Train & Test Split: from sklearn.model_selection import train_test_split\n",
    "K-Fold:             from sklearn.model_selection import cross_val_score\n",
    "Bagging Algorithms: from sklearn.ensemble import BaggingClassifier\n",
    "Voting Classifier:  from sklearn.ensemble import VotingClassifier\n",
    "\n",
    "For Prediction and Evaluation\n",
    "\n",
    "from sklearn.metrics import classification_report,confusion_matrix\n",
    "from sklearn.metrics import accuracy_score\n"
   ]
  },
  {
   "cell_type": "markdown",
   "metadata": {},
   "source": [
    "### Import all the libraries required"
   ]
  },
  {
   "cell_type": "code",
   "execution_count": 1,
   "metadata": {},
   "outputs": [],
   "source": [
    "import pandas as pd\n",
    "from sklearn import preprocessing\n",
    "from sklearn.tree import DecisionTreeClassifier \n",
    "from sklearn.neighbors import KNeighborsClassifier\n",
    "from sklearn.naive_bayes import GaussianNB\n",
    "from sklearn.model_selection import train_test_split\n",
    "from sklearn.model_selection import cross_val_score\n",
    "from sklearn.metrics import classification_report,confusion_matrix\n",
    "from sklearn.metrics import accuracy_score"
   ]
  },
  {
   "cell_type": "markdown",
   "metadata": {},
   "source": [
    "### Load the data"
   ]
  },
  {
   "cell_type": "code",
   "execution_count": 2,
   "metadata": {},
   "outputs": [
    {
     "data": {
      "text/html": [
       "<div>\n",
       "<style scoped>\n",
       "    .dataframe tbody tr th:only-of-type {\n",
       "        vertical-align: middle;\n",
       "    }\n",
       "\n",
       "    .dataframe tbody tr th {\n",
       "        vertical-align: top;\n",
       "    }\n",
       "\n",
       "    .dataframe thead th {\n",
       "        text-align: right;\n",
       "    }\n",
       "</style>\n",
       "<table border=\"1\" class=\"dataframe\">\n",
       "  <thead>\n",
       "    <tr style=\"text-align: right;\">\n",
       "      <th></th>\n",
       "      <th>0</th>\n",
       "      <th>1</th>\n",
       "      <th>2</th>\n",
       "      <th>3</th>\n",
       "      <th>4</th>\n",
       "      <th>5</th>\n",
       "      <th>6</th>\n",
       "      <th>7</th>\n",
       "      <th>8</th>\n",
       "      <th>9</th>\n",
       "      <th>...</th>\n",
       "      <th>33</th>\n",
       "      <th>34</th>\n",
       "      <th>35</th>\n",
       "      <th>36</th>\n",
       "      <th>37</th>\n",
       "      <th>38</th>\n",
       "      <th>39</th>\n",
       "      <th>40</th>\n",
       "      <th>41</th>\n",
       "      <th>42</th>\n",
       "    </tr>\n",
       "  </thead>\n",
       "  <tbody>\n",
       "    <tr>\n",
       "      <th>0</th>\n",
       "      <td>0</td>\n",
       "      <td>-0.422222</td>\n",
       "      <td>0.0</td>\n",
       "      <td>-0.255556</td>\n",
       "      <td>-0.400000</td>\n",
       "      <td>-0.183333</td>\n",
       "      <td>-0.316667</td>\n",
       "      <td>-0.222222</td>\n",
       "      <td>-0.138889</td>\n",
       "      <td>0.022222</td>\n",
       "      <td>...</td>\n",
       "      <td>-0.455556</td>\n",
       "      <td>-1.0</td>\n",
       "      <td>0.311111</td>\n",
       "      <td>-0.866667</td>\n",
       "      <td>-0.266667</td>\n",
       "      <td>-0.016667</td>\n",
       "      <td>-0.255556</td>\n",
       "      <td>-0.044444</td>\n",
       "      <td>-0.244444</td>\n",
       "      <td>-0.072222</td>\n",
       "    </tr>\n",
       "    <tr>\n",
       "      <th>1</th>\n",
       "      <td>0</td>\n",
       "      <td>-0.418478</td>\n",
       "      <td>0.0</td>\n",
       "      <td>-0.228261</td>\n",
       "      <td>-0.358696</td>\n",
       "      <td>-0.157609</td>\n",
       "      <td>-0.298913</td>\n",
       "      <td>-0.228261</td>\n",
       "      <td>-0.125000</td>\n",
       "      <td>0.032609</td>\n",
       "      <td>...</td>\n",
       "      <td>-0.461957</td>\n",
       "      <td>-1.0</td>\n",
       "      <td>0.288043</td>\n",
       "      <td>-0.891304</td>\n",
       "      <td>-0.250000</td>\n",
       "      <td>-0.010870</td>\n",
       "      <td>-0.244565</td>\n",
       "      <td>-0.032609</td>\n",
       "      <td>-0.255435</td>\n",
       "      <td>-0.065217</td>\n",
       "    </tr>\n",
       "    <tr>\n",
       "      <th>2</th>\n",
       "      <td>0</td>\n",
       "      <td>-0.362637</td>\n",
       "      <td>0.0</td>\n",
       "      <td>-0.186813</td>\n",
       "      <td>-0.373626</td>\n",
       "      <td>-0.131868</td>\n",
       "      <td>-0.318681</td>\n",
       "      <td>-0.241758</td>\n",
       "      <td>-0.175824</td>\n",
       "      <td>0.104396</td>\n",
       "      <td>...</td>\n",
       "      <td>-0.340659</td>\n",
       "      <td>-1.0</td>\n",
       "      <td>0.373626</td>\n",
       "      <td>-0.807692</td>\n",
       "      <td>-0.247253</td>\n",
       "      <td>-0.060440</td>\n",
       "      <td>-0.230769</td>\n",
       "      <td>-0.054945</td>\n",
       "      <td>-0.236264</td>\n",
       "      <td>-0.076923</td>\n",
       "    </tr>\n",
       "    <tr>\n",
       "      <th>3</th>\n",
       "      <td>0</td>\n",
       "      <td>-0.394444</td>\n",
       "      <td>0.0</td>\n",
       "      <td>-0.250000</td>\n",
       "      <td>-0.394444</td>\n",
       "      <td>-0.166667</td>\n",
       "      <td>-0.311111</td>\n",
       "      <td>-0.211111</td>\n",
       "      <td>-0.133333</td>\n",
       "      <td>0.022222</td>\n",
       "      <td>...</td>\n",
       "      <td>-0.472222</td>\n",
       "      <td>-1.0</td>\n",
       "      <td>0.288889</td>\n",
       "      <td>-0.877778</td>\n",
       "      <td>-0.266667</td>\n",
       "      <td>-0.011111</td>\n",
       "      <td>-0.250000</td>\n",
       "      <td>-0.038889</td>\n",
       "      <td>-0.244444</td>\n",
       "      <td>-0.072222</td>\n",
       "    </tr>\n",
       "    <tr>\n",
       "      <th>4</th>\n",
       "      <td>0</td>\n",
       "      <td>-0.387435</td>\n",
       "      <td>0.0</td>\n",
       "      <td>-0.282723</td>\n",
       "      <td>-0.403141</td>\n",
       "      <td>-0.141361</td>\n",
       "      <td>-0.324607</td>\n",
       "      <td>-0.214660</td>\n",
       "      <td>-0.162304</td>\n",
       "      <td>0.078534</td>\n",
       "      <td>...</td>\n",
       "      <td>-0.429319</td>\n",
       "      <td>-1.0</td>\n",
       "      <td>0.345550</td>\n",
       "      <td>-0.837696</td>\n",
       "      <td>-0.287958</td>\n",
       "      <td>-0.041885</td>\n",
       "      <td>-0.246073</td>\n",
       "      <td>-0.052356</td>\n",
       "      <td>-0.240838</td>\n",
       "      <td>-0.068063</td>\n",
       "    </tr>\n",
       "  </tbody>\n",
       "</table>\n",
       "<p>5 rows × 43 columns</p>\n",
       "</div>"
      ],
      "text/plain": [
       "   0         1    2         3         4         5         6         7   \\\n",
       "0   0 -0.422222  0.0 -0.255556 -0.400000 -0.183333 -0.316667 -0.222222   \n",
       "1   0 -0.418478  0.0 -0.228261 -0.358696 -0.157609 -0.298913 -0.228261   \n",
       "2   0 -0.362637  0.0 -0.186813 -0.373626 -0.131868 -0.318681 -0.241758   \n",
       "3   0 -0.394444  0.0 -0.250000 -0.394444 -0.166667 -0.311111 -0.211111   \n",
       "4   0 -0.387435  0.0 -0.282723 -0.403141 -0.141361 -0.324607 -0.214660   \n",
       "\n",
       "         8         9   ...        33   34        35        36        37  \\\n",
       "0 -0.138889  0.022222  ... -0.455556 -1.0  0.311111 -0.866667 -0.266667   \n",
       "1 -0.125000  0.032609  ... -0.461957 -1.0  0.288043 -0.891304 -0.250000   \n",
       "2 -0.175824  0.104396  ... -0.340659 -1.0  0.373626 -0.807692 -0.247253   \n",
       "3 -0.133333  0.022222  ... -0.472222 -1.0  0.288889 -0.877778 -0.266667   \n",
       "4 -0.162304  0.078534  ... -0.429319 -1.0  0.345550 -0.837696 -0.287958   \n",
       "\n",
       "         38        39        40        41        42  \n",
       "0 -0.016667 -0.255556 -0.044444 -0.244444 -0.072222  \n",
       "1 -0.010870 -0.244565 -0.032609 -0.255435 -0.065217  \n",
       "2 -0.060440 -0.230769 -0.054945 -0.236264 -0.076923  \n",
       "3 -0.011111 -0.250000 -0.038889 -0.244444 -0.072222  \n",
       "4 -0.041885 -0.246073 -0.052356 -0.240838 -0.068063  \n",
       "\n",
       "[5 rows x 43 columns]"
      ]
     },
     "execution_count": 2,
     "metadata": {},
     "output_type": "execute_result"
    }
   ],
   "source": [
    "# import dataset\n",
    "dataset = 'model/gesture_classifier/gesture_akshay.csv'\n",
    "\n",
    "df = pd.read_csv(dataset, header = None)\n",
    "df.head()"
   ]
  },
  {
   "cell_type": "markdown",
   "metadata": {},
   "source": [
    "### Split the dataset into training and testing parts (70-30 ratio with a random state value 30)"
   ]
  },
  {
   "cell_type": "code",
   "execution_count": 3,
   "metadata": {},
   "outputs": [
    {
     "name": "stdout",
     "output_type": "stream",
     "text": [
      "            1    2         3         4         5         6         7   \\\n",
      "0    -0.422222  0.0 -0.255556 -0.400000 -0.183333 -0.316667 -0.222222   \n",
      "1    -0.418478  0.0 -0.228261 -0.358696 -0.157609 -0.298913 -0.228261   \n",
      "2    -0.362637  0.0 -0.186813 -0.373626 -0.131868 -0.318681 -0.241758   \n",
      "3    -0.394444  0.0 -0.250000 -0.394444 -0.166667 -0.311111 -0.211111   \n",
      "4    -0.387435  0.0 -0.282723 -0.403141 -0.141361 -0.324607 -0.214660   \n",
      "...        ...  ...       ...       ...       ...       ...       ...   \n",
      "7777 -0.512346  0.0 -0.376543 -0.395062 -0.259259 -0.327160 -0.203704   \n",
      "7778 -0.500000  0.0 -0.382716 -0.401235 -0.265432 -0.320988 -0.203704   \n",
      "7779 -0.500000  0.0 -0.382716 -0.395062 -0.271605 -0.327160 -0.209877   \n",
      "7780 -0.506173  0.0 -0.388889 -0.407407 -0.265432 -0.327160 -0.216049   \n",
      "7781 -0.506173  0.0 -0.388889 -0.407407 -0.265432 -0.327160 -0.216049   \n",
      "\n",
      "            8         9         10  ...        33   34        35        36  \\\n",
      "0    -0.138889  0.022222 -0.288889  ... -0.455556 -1.0  0.311111 -0.866667   \n",
      "1    -0.125000  0.032609 -0.250000  ... -0.461957 -1.0  0.288043 -0.891304   \n",
      "2    -0.175824  0.104396 -0.203297  ... -0.340659 -1.0  0.373626 -0.807692   \n",
      "3    -0.133333  0.022222 -0.277778  ... -0.472222 -1.0  0.288889 -0.877778   \n",
      "4    -0.162304  0.078534 -0.219895  ... -0.429319 -1.0  0.345550 -0.837696   \n",
      "...        ...       ...       ...  ...       ...  ...       ...       ...   \n",
      "7777 -0.154321 -0.018519 -0.506173  ... -0.611111 -1.0  0.209877 -0.765432   \n",
      "7778 -0.154321 -0.012346 -0.506173  ... -0.617284 -1.0  0.203704 -0.771605   \n",
      "7779 -0.154321 -0.006173 -0.506173  ... -0.604938 -1.0  0.209877 -0.771605   \n",
      "7780 -0.166667 -0.006173 -0.500000  ... -0.611111 -1.0  0.228395 -0.765432   \n",
      "7781 -0.166667 -0.006173 -0.500000  ... -0.611111 -1.0  0.228395 -0.765432   \n",
      "\n",
      "            37        38        39        40        41        42  \n",
      "0    -0.266667 -0.016667 -0.255556 -0.044444 -0.244444 -0.072222  \n",
      "1    -0.250000 -0.010870 -0.244565 -0.032609 -0.255435 -0.065217  \n",
      "2    -0.247253 -0.060440 -0.230769 -0.054945 -0.236264 -0.076923  \n",
      "3    -0.266667 -0.011111 -0.250000 -0.038889 -0.244444 -0.072222  \n",
      "4    -0.287958 -0.041885 -0.246073 -0.052356 -0.240838 -0.068063  \n",
      "...        ...       ...       ...       ...       ...       ...  \n",
      "7777 -0.308642 -0.037037 -0.271605 -0.080247 -0.240741 -0.117284  \n",
      "7778 -0.308642 -0.037037 -0.271605 -0.080247 -0.240741 -0.111111  \n",
      "7779 -0.308642 -0.043210 -0.271605 -0.074074 -0.234568 -0.111111  \n",
      "7780 -0.314815 -0.037037 -0.277778 -0.080247 -0.246914 -0.117284  \n",
      "7781 -0.314815 -0.037037 -0.277778 -0.080247 -0.246914 -0.117284  \n",
      "\n",
      "[7782 rows x 42 columns]\n",
      "      0\n",
      "0     0\n",
      "1     0\n",
      "2     0\n",
      "3     0\n",
      "4     0\n",
      "...  ..\n",
      "7777  4\n",
      "7778  4\n",
      "7779  4\n",
      "7780  4\n",
      "7781  4\n",
      "\n",
      "[7782 rows x 1 columns]\n"
     ]
    }
   ],
   "source": [
    "# Select the independent variables and the target attribute\n",
    "X = df.iloc[:, 1:]\n",
    "Y = df.iloc[:, :1]\n",
    "\n",
    "# print(X.head)\n",
    "# print(Y.head)\n",
    "\n",
    "print(X)\n",
    "print(Y)"
   ]
  },
  {
   "cell_type": "code",
   "execution_count": 4,
   "metadata": {},
   "outputs": [],
   "source": [
    "# Divide the dataset into training and testing partition\n",
    "X_train, X_test, Y_train, Y_test = train_test_split(X, Y, test_size=0.30, random_state = 30)"
   ]
  },
  {
   "cell_type": "markdown",
   "metadata": {},
   "source": [
    "### Q1. Ensemble Method by manipulation of Dataset (Bagged Decision Trees)\n",
    "\n",
    "Bagging performs best with algorithms that have high variance. A popular example are decision trees, often constructed without pruning.\n",
    "\n",
    "We will create decision tree classifiers with and without bagging ensemble method and compare their performance."
   ]
  },
  {
   "cell_type": "raw",
   "metadata": {},
   "source": [
    "1. Implement the Decision Tree classifier\n",
    "2. Implement Bagging Classifier using base classifiers of the same type i.e. Decision tree (no. of classifiers    = 5)\n",
    "3. Train and view scores using k-fold cross validation with k=5\n",
    "4. Test on the testing part of the dataset\n"
   ]
  },
  {
   "cell_type": "code",
   "execution_count": 5,
   "metadata": {},
   "outputs": [],
   "source": [
    "# Implement the decision tree classifier using entropy and random state value as 30\n",
    "dtree_entropy = DecisionTreeClassifier(criterion='entropy', random_state = 30)"
   ]
  },
  {
   "cell_type": "code",
   "execution_count": 6,
   "metadata": {},
   "outputs": [
    {
     "name": "stdout",
     "output_type": "stream",
     "text": [
      "scores:  [0.98990826 0.99541284 0.99265381 0.99081726 0.9862259 ]\n",
      "mean score:  0.9910036141228801\n"
     ]
    }
   ],
   "source": [
    "# Use k-fold cross validation with k=5\n",
    "dtree_entropy = dtree_entropy.fit(X_train,Y_train)\n",
    "scores = cross_val_score(dtree_entropy, X_train, Y_train, cv=5, scoring='accuracy')\n",
    "print('scores: ', scores)\n",
    "print('mean score: ', scores.mean())"
   ]
  },
  {
   "cell_type": "markdown",
   "metadata": {},
   "source": [
    "### Prediction and Evaluation"
   ]
  },
  {
   "cell_type": "code",
   "execution_count": 7,
   "metadata": {},
   "outputs": [],
   "source": [
    "# Predict results on the testing part\n",
    "predictions = dtree_entropy.predict(X_test)"
   ]
  },
  {
   "cell_type": "code",
   "execution_count": 8,
   "metadata": {},
   "outputs": [
    {
     "name": "stdout",
     "output_type": "stream",
     "text": [
      "              precision    recall  f1-score   support\n",
      "\n",
      "           0       0.99      0.99      0.99       158\n",
      "           1       0.99      0.99      0.99       188\n",
      "           2       1.00      1.00      1.00       317\n",
      "           3       0.99      1.00      1.00       225\n",
      "           4       1.00      1.00      1.00       228\n",
      "           5       0.99      1.00      1.00       374\n",
      "           6       0.97      0.97      0.97        76\n",
      "           7       1.00      0.99      0.99       238\n",
      "           8       1.00      0.99      1.00       193\n",
      "           9       1.00      0.99      1.00       189\n",
      "          10       0.92      0.92      0.92        25\n",
      "          11       1.00      0.95      0.98        42\n",
      "          12       0.98      1.00      0.99        82\n",
      "\n",
      "    accuracy                           0.99      2335\n",
      "   macro avg       0.99      0.98      0.99      2335\n",
      "weighted avg       0.99      0.99      0.99      2335\n",
      "\n",
      "Confusion Matrix\n",
      "[[157   0   0   0   0   0   1   0   0   0   0   0   0]\n",
      " [  0 186   0   0   0   0   0   0   0   0   2   0   0]\n",
      " [  0   0 316   0   0   1   0   0   0   0   0   0   0]\n",
      " [  0   0   0 225   0   0   0   0   0   0   0   0   0]\n",
      " [  0   0   0   0 228   0   0   0   0   0   0   0   0]\n",
      " [  0   0   0   0   0 374   0   0   0   0   0   0   0]\n",
      " [  0   0   0   0   0   0  74   0   0   0   0   0   2]\n",
      " [  0   0   0   2   1   0   0 235   0   0   0   0   0]\n",
      " [  0   0   0   0   0   0   1   0 192   0   0   0   0]\n",
      " [  0   0   0   0   0   0   0   1   0 188   0   0   0]\n",
      " [  0   1   0   0   0   1   0   0   0   0  23   0   0]\n",
      " [  1   0   1   0   0   0   0   0   0   0   0  40   0]\n",
      " [  0   0   0   0   0   0   0   0   0   0   0   0  82]]\n",
      "\n",
      " Accuracy\n",
      "0.9935760171306209\n"
     ]
    }
   ],
   "source": [
    "# Calculate and print confusion matrix and other performance measures \n",
    "print(classification_report(Y_test,predictions))\n",
    "print(\"Confusion Matrix\")\n",
    "print(confusion_matrix(Y_test,predictions))\n",
    "print(\"\\n Accuracy\")\n",
    "print(accuracy_score(Y_test,predictions))"
   ]
  },
  {
   "cell_type": "markdown",
   "metadata": {},
   "source": [
    "### Comparison with Bagged Decision Tree"
   ]
  },
  {
   "cell_type": "code",
   "execution_count": 9,
   "metadata": {},
   "outputs": [],
   "source": [
    "# Create a model using bagging using 5 decision tree classifiers\n",
    "from sklearn.ensemble import BaggingClassifier\n",
    "\n",
    "seed = 30\n",
    "dtree = DecisionTreeClassifier(criterion='entropy', random_state = 30) \n",
    "num_trees = 5\n",
    "model = BaggingClassifier(base_estimator=dtree, n_estimators=num_trees, random_state=seed)"
   ]
  },
  {
   "cell_type": "code",
   "execution_count": 10,
   "metadata": {},
   "outputs": [
    {
     "name": "stderr",
     "output_type": "stream",
     "text": [
      "C:\\Users\\agola\\AppData\\Roaming\\Python\\Python38\\site-packages\\sklearn\\ensemble\\_bagging.py:802: DataConversionWarning: A column-vector y was passed when a 1d array was expected. Please change the shape of y to (n_samples, ), for example using ravel().\n",
      "  y = column_or_1d(y, warn=True)\n",
      "C:\\Users\\agola\\AppData\\Roaming\\Python\\Python38\\site-packages\\sklearn\\ensemble\\_base.py:156: FutureWarning: `base_estimator` was renamed to `estimator` in version 1.2 and will be removed in 1.4.\n",
      "  warnings.warn(\n",
      "C:\\Users\\agola\\AppData\\Roaming\\Python\\Python38\\site-packages\\sklearn\\ensemble\\_bagging.py:802: DataConversionWarning: A column-vector y was passed when a 1d array was expected. Please change the shape of y to (n_samples, ), for example using ravel().\n",
      "  y = column_or_1d(y, warn=True)\n",
      "C:\\Users\\agola\\AppData\\Roaming\\Python\\Python38\\site-packages\\sklearn\\ensemble\\_base.py:156: FutureWarning: `base_estimator` was renamed to `estimator` in version 1.2 and will be removed in 1.4.\n",
      "  warnings.warn(\n",
      "C:\\Users\\agola\\AppData\\Roaming\\Python\\Python38\\site-packages\\sklearn\\ensemble\\_bagging.py:802: DataConversionWarning: A column-vector y was passed when a 1d array was expected. Please change the shape of y to (n_samples, ), for example using ravel().\n",
      "  y = column_or_1d(y, warn=True)\n",
      "C:\\Users\\agola\\AppData\\Roaming\\Python\\Python38\\site-packages\\sklearn\\ensemble\\_base.py:156: FutureWarning: `base_estimator` was renamed to `estimator` in version 1.2 and will be removed in 1.4.\n",
      "  warnings.warn(\n",
      "C:\\Users\\agola\\AppData\\Roaming\\Python\\Python38\\site-packages\\sklearn\\ensemble\\_bagging.py:802: DataConversionWarning: A column-vector y was passed when a 1d array was expected. Please change the shape of y to (n_samples, ), for example using ravel().\n",
      "  y = column_or_1d(y, warn=True)\n",
      "C:\\Users\\agola\\AppData\\Roaming\\Python\\Python38\\site-packages\\sklearn\\ensemble\\_base.py:156: FutureWarning: `base_estimator` was renamed to `estimator` in version 1.2 and will be removed in 1.4.\n",
      "  warnings.warn(\n",
      "C:\\Users\\agola\\AppData\\Roaming\\Python\\Python38\\site-packages\\sklearn\\ensemble\\_bagging.py:802: DataConversionWarning: A column-vector y was passed when a 1d array was expected. Please change the shape of y to (n_samples, ), for example using ravel().\n",
      "  y = column_or_1d(y, warn=True)\n",
      "C:\\Users\\agola\\AppData\\Roaming\\Python\\Python38\\site-packages\\sklearn\\ensemble\\_base.py:156: FutureWarning: `base_estimator` was renamed to `estimator` in version 1.2 and will be removed in 1.4.\n",
      "  warnings.warn(\n",
      "C:\\Users\\agola\\AppData\\Roaming\\Python\\Python38\\site-packages\\sklearn\\ensemble\\_bagging.py:802: DataConversionWarning: A column-vector y was passed when a 1d array was expected. Please change the shape of y to (n_samples, ), for example using ravel().\n",
      "  y = column_or_1d(y, warn=True)\n",
      "C:\\Users\\agola\\AppData\\Roaming\\Python\\Python38\\site-packages\\sklearn\\ensemble\\_base.py:156: FutureWarning: `base_estimator` was renamed to `estimator` in version 1.2 and will be removed in 1.4.\n",
      "  warnings.warn(\n"
     ]
    },
    {
     "name": "stdout",
     "output_type": "stream",
     "text": [
      "scores:  [0.99082569 0.99633028 0.98806244 0.99632691 0.99081726]\n",
      "mean score:  0.9924725149746001\n"
     ]
    }
   ],
   "source": [
    "# Use k-fold cross validation with k=5\n",
    "model_bagged = model.fit(X_train,Y_train)\n",
    "scores = cross_val_score(model_bagged, X_train, Y_train, cv=5, scoring='accuracy')\n",
    "print('scores: ', scores)\n",
    "print('mean score: ', scores.mean())"
   ]
  },
  {
   "cell_type": "markdown",
   "metadata": {},
   "source": [
    "### Prediction and Evaluation"
   ]
  },
  {
   "cell_type": "code",
   "execution_count": 11,
   "metadata": {},
   "outputs": [],
   "source": [
    "# Predict results on the testing part\n",
    "predictions = model_bagged.predict(X_test)"
   ]
  },
  {
   "cell_type": "code",
   "execution_count": 12,
   "metadata": {},
   "outputs": [
    {
     "name": "stdout",
     "output_type": "stream",
     "text": [
      "              precision    recall  f1-score   support\n",
      "\n",
      "           0       0.99      0.99      0.99       158\n",
      "           1       1.00      0.99      1.00       188\n",
      "           2       1.00      1.00      1.00       317\n",
      "           3       0.99      1.00      1.00       225\n",
      "           4       1.00      1.00      1.00       228\n",
      "           5       0.99      1.00      1.00       374\n",
      "           6       0.97      0.99      0.98        76\n",
      "           7       1.00      0.99      0.99       238\n",
      "           8       1.00      0.98      0.99       193\n",
      "           9       1.00      1.00      1.00       189\n",
      "          10       0.92      0.96      0.94        25\n",
      "          11       0.98      1.00      0.99        42\n",
      "          12       0.99      1.00      0.99        82\n",
      "\n",
      "    accuracy                           0.99      2335\n",
      "   macro avg       0.99      0.99      0.99      2335\n",
      "weighted avg       0.99      0.99      0.99      2335\n",
      "\n",
      "Confusion Matrix\n",
      "[[156   0   0   0   0   1   0   0   0   0   1   0   0]\n",
      " [  0 187   0   0   0   0   0   0   0   0   1   0   0]\n",
      " [  0   0 317   0   0   0   0   0   0   0   0   0   0]\n",
      " [  0   0   0 225   0   0   0   0   0   0   0   0   0]\n",
      " [  0   0   0   0 228   0   0   0   0   0   0   0   0]\n",
      " [  0   0   0   0   0 374   0   0   0   0   0   0   0]\n",
      " [  0   0   0   0   0   0  75   0   0   0   0   0   1]\n",
      " [  1   0   0   2   0   0   0 235   0   0   0   0   0]\n",
      " [  1   0   0   0   0   1   2   0 189   0   0   0   0]\n",
      " [  0   0   0   0   0   0   0   0   0 189   0   0   0]\n",
      " [  0   0   0   0   0   0   0   0   0   0  24   1   0]\n",
      " [  0   0   0   0   0   0   0   0   0   0   0  42   0]\n",
      " [  0   0   0   0   0   0   0   0   0   0   0   0  82]]\n",
      "\n",
      " Accuracy\n",
      "0.9948608137044967\n"
     ]
    }
   ],
   "source": [
    "# Calculate and print confusion matrix and other performance measures \n",
    "print(classification_report(Y_test,predictions))\n",
    "print(\"Confusion Matrix\")\n",
    "print(confusion_matrix(Y_test,predictions))\n",
    "print(\"\\n Accuracy\")\n",
    "print(accuracy_score(Y_test,predictions))"
   ]
  },
  {
   "cell_type": "markdown",
   "metadata": {},
   "source": [
    "### Q2. Ensemble Method by manipulation of Classifiers (using Voting Classifier)\n",
    "\n",
    "The VotingClassifier takes in a list of different estimators as arguments and a voting method. The **hard** voting method uses the predicted labels and a majority rules system, while the **soft** voting method predicts a label based on the argmax/largest predicted value of the sum of the predicted probabilities.\n",
    "\n",
    "After we provide the desired classifiers, we need to fit the resulting ensemble classifier object. We can then get predictions and use accuracy metrics."
   ]
  },
  {
   "cell_type": "raw",
   "metadata": {},
   "source": [
    "1. Implement different base classifiers. Classifiers to be used are: Decision tree, 3-NN with euclidean \n",
    "   distance, 5-NN with euclidean distance, 5-NN with manhattan distance and \n",
    "   Naive Bayes\n",
    "2. Create an ensemble of the classifiers using Voting Classifier with hard voting method\n",
    "3. Test on the testing part of the dataset\n"
   ]
  },
  {
   "cell_type": "code",
   "execution_count": 23,
   "metadata": {},
   "outputs": [],
   "source": [
    "# Implement the different classifiers\n",
    "from sklearn.ensemble import VotingClassifier\n",
    "\n",
    "dtree_gini = DecisionTreeClassifier(criterion='gini')\n",
    "K3_euclidean = KNeighborsClassifier(n_neighbors=3, metric = \"euclidean\")\n",
    "K5_euclidean = KNeighborsClassifier(n_neighbors=5, metric = \"euclidean\")\n",
    "K5_manhattan = KNeighborsClassifier(n_neighbors=5, metric = \"manhattan\")\n",
    "nb = GaussianNB()"
   ]
  },
  {
   "cell_type": "code",
   "execution_count": 26,
   "metadata": {},
   "outputs": [],
   "source": [
    "# Build Voting Classifier using above estimators and hard voting method\n",
    "# Function to be used: VotingClassifier(estimators,voting)\n",
    "# Estimators represent the base classifiers used taken as ('base classifier name', variable_name)\n",
    "model = VotingClassifier(estimators=[('dt', dtree_gini), ('knn3', K3_euclidean), ('knn5', K5_euclidean),('knn5_man', K5_manhattan), ('gnb', nb)], voting='hard')"
   ]
  },
  {
   "cell_type": "code",
   "execution_count": 27,
   "metadata": {},
   "outputs": [
    {
     "name": "stdout",
     "output_type": "stream",
     "text": [
      "scores:  [0.94178571 0.94392857 0.94357143 0.94464286 0.94392857]\n",
      "mean score:  0.9435714285714285\n"
     ]
    }
   ],
   "source": [
    "# Fit the voting classifier model and print scores using k-fold cross validation with k=5\n",
    "model_voting = model.fit(X_train,Y_train)\n",
    "scores = cross_val_score(model_voting, X_train, Y_train, cv=5, scoring='accuracy')\n",
    "print('scores: ', scores)\n",
    "print('mean score: ', scores.mean())"
   ]
  },
  {
   "cell_type": "markdown",
   "metadata": {},
   "source": [
    "### Prediction and Evaluation"
   ]
  },
  {
   "cell_type": "code",
   "execution_count": 28,
   "metadata": {},
   "outputs": [],
   "source": [
    "# Predict results on the testing part\n",
    "predictions = model_voting.predict(X_test)"
   ]
  },
  {
   "cell_type": "code",
   "execution_count": 29,
   "metadata": {},
   "outputs": [
    {
     "name": "stdout",
     "output_type": "stream",
     "text": [
      "              precision    recall  f1-score   support\n",
      "\n",
      "           A       0.98      1.00      0.99       229\n",
      "           B       0.84      0.97      0.90       228\n",
      "           C       0.96      0.96      0.96       220\n",
      "           D       0.88      0.98      0.93       219\n",
      "           E       0.95      0.92      0.93       232\n",
      "           F       0.93      0.93      0.93       225\n",
      "           G       0.94      0.91      0.93       234\n",
      "           H       0.89      0.92      0.90       206\n",
      "           I       0.94      0.97      0.96       236\n",
      "           J       0.97      0.93      0.95       209\n",
      "           K       0.93      0.91      0.92       213\n",
      "           L       0.99      0.95      0.97       239\n",
      "           M       0.97      0.98      0.98       240\n",
      "           N       0.98      0.95      0.96       239\n",
      "           O       0.91      0.94      0.92       243\n",
      "           P       0.95      0.94      0.95       243\n",
      "           Q       0.96      0.96      0.96       228\n",
      "           R       0.95      0.91      0.93       230\n",
      "           S       0.99      0.98      0.98       220\n",
      "           T       0.97      0.96      0.96       234\n",
      "           U       1.00      0.97      0.98       235\n",
      "           V       0.96      0.93      0.95       228\n",
      "           W       0.97      0.95      0.96       250\n",
      "           X       0.96      0.95      0.96       237\n",
      "           Y       0.98      0.95      0.96       252\n",
      "           Z       0.99      0.97      0.98       231\n",
      "\n",
      "    accuracy                           0.95      6000\n",
      "   macro avg       0.95      0.95      0.95      6000\n",
      "weighted avg       0.95      0.95      0.95      6000\n",
      "\n",
      "Confusion Matrix\n",
      "[[228   0   0   0   0   0   0   0   0   0   0   1   0   0   0   0   0   0\n",
      "    0   0   0   0   0   0   0   0]\n",
      " [  0 221   0   1   1   0   0   1   0   0   0   0   0   0   0   0   0   2\n",
      "    0   0   0   0   0   2   0   0]\n",
      " [  0   0 211   0   0   0   3   0   0   0   0   0   0   0   3   0   0   0\n",
      "    0   0   0   1   1   1   0   0]\n",
      " [  0   1   0 214   0   0   0   1   0   0   0   0   0   0   1   1   0   1\n",
      "    0   0   0   0   0   0   0   0]\n",
      " [  0   2   3   0 214   1   3   1   0   0   1   0   0   0   0   0   0   0\n",
      "    2   0   0   1   0   1   0   3]\n",
      " [  0   1   0   1   0 210   0   0   1   0   0   0   0   1   0   7   0   0\n",
      "    0   2   0   1   1   0   0   0]\n",
      " [  0   2   1   4   4   0 214   0   0   0   1   0   0   0   5   0   1   0\n",
      "    0   0   0   0   1   1   0   0]\n",
      " [  0   5   0   4   0   0   1 190   0   0   3   0   0   0   0   0   0   3\n",
      "    0   0   0   0   0   0   0   0]\n",
      " [  0   0   1   0   0   0   0   0 230   4   0   0   0   0   0   1   0   0\n",
      "    0   0   0   0   0   0   0   0]\n",
      " [  0   0   0   1   0   0   0   0  12 195   0   0   0   1   0   0   0   0\n",
      "    0   0   0   0   0   0   0   0]\n",
      " [  0   4   0   1   1   0   0   9   0   0 193   0   0   0   0   0   0   2\n",
      "    0   0   0   0   0   3   0   0]\n",
      " [  0   1   0   0   2   0   4   4   0   0   1 227   0   0   0   0   0   0\n",
      "    0   0   0   0   0   0   0   0]\n",
      " [  0   2   0   0   0   0   0   0   0   0   0   0 236   0   0   0   0   0\n",
      "    0   0   0   0   2   0   0   0]\n",
      " [  0   1   0   5   0   0   0   1   0   0   0   0   1 226   2   0   0   2\n",
      "    0   0   0   1   0   0   0   0]\n",
      " [  0   3   3   4   0   0   2   0   0   0   0   0   0   0 228   0   3   0\n",
      "    0   0   0   0   0   0   0   0]\n",
      " [  0   0   1   0   0  14   0   0   0   0   0   0   0   0   0 228   0   0\n",
      "    0   0   0   0   0   0   0   0]\n",
      " [  2   0   0   1   0   0   1   0   0   0   0   0   0   0   5   0 219   0\n",
      "    0   0   0   0   0   0   0   0]\n",
      " [  0   9   0   3   0   0   0   2   0   0   2   1   0   3   0   0   0 210\n",
      "    0   0   0   0   0   0   0   0]\n",
      " [  0   1   0   1   1   1   0   0   0   0   1   0   0   0   0   0   0   0\n",
      "  215   0   0   0   0   0   0   0]\n",
      " [  1   1   0   0   0   0   0   1   1   0   1   0   0   0   0   0   0   0\n",
      "    0 224   0   0   0   0   5   0]\n",
      " [  1   0   0   1   0   0   0   4   0   0   0   0   0   0   0   0   0   0\n",
      "    0   0 229   0   0   0   0   0]\n",
      " [  1   9   0   0   0   0   0   0   0   0   0   0   1   0   1   0   0   0\n",
      "    0   0   0 213   2   0   1   0]\n",
      " [  0   0   0   0   0   0   0   0   0   0   0   0   4   0   5   0   0   1\n",
      "    0   0   1   1 238   0   0   0]\n",
      " [  0   1   0   2   3   0   0   0   0   0   4   0   0   0   0   0   0   0\n",
      "    1   0   0   0   0 226   0   0]\n",
      " [  0   0   0   0   0   0   0   0   0   0   0   0   1   0   0   2   0   0\n",
      "    0   4   0   4   1   0 240   0]\n",
      " [  0   0   0   0   0   0   0   0   0   1   0   0   0   0   0   0   4   0\n",
      "    0   2   0   0   0   1   0 223]]\n",
      "\n",
      " Accuracy\n",
      "0.9503333333333334\n"
     ]
    }
   ],
   "source": [
    "# Calculate and print confusion matrix and other performance measures \n",
    "print(classification_report(Y_test,predictions))\n",
    "print(\"Confusion Matrix\")\n",
    "print(confusion_matrix(Y_test,predictions))\n",
    "print(\"\\n Accuracy\")\n",
    "print(accuracy_score(Y_test,predictions))"
   ]
  },
  {
   "cell_type": "markdown",
   "metadata": {},
   "source": [
    "### Q3. Manipulating the features"
   ]
  },
  {
   "cell_type": "raw",
   "metadata": {},
   "source": [
    "1. Generate five feature sets using random vector (including 10 features each)\n",
    "2. Apply Decision tree with same hyperparameters on these five different feature \n",
    "   sets\n",
    "3. Test on the testing part of the dataset\n",
    "(Note: The ensemble classifier would be evaluated on the entire dataset)"
   ]
  },
  {
   "cell_type": "code",
   "execution_count": 73,
   "metadata": {},
   "outputs": [],
   "source": [
    "# Generate five random vectors\n",
    "import numpy as np\n",
    "vector = []\n",
    "for i in range(5):\n",
    " vect=np.random.choice(np.arange(1,17),10, replace=False)\n",
    " vector.append(vect)\n",
    "    \n",
    "df1 = df [vector[0]]\n",
    "df2 = df [vector[1]]\n",
    "df3 = df [vector[2]]\n",
    "df4 = df [vector[3]] \n",
    "df5 = df [vector[4]]\n"
   ]
  },
  {
   "cell_type": "code",
   "execution_count": 74,
   "metadata": {},
   "outputs": [],
   "source": [
    "# Model 1\n",
    "# Select the independent variables \n",
    "# select only the target lableled column\n",
    "\n",
    "X = df1[df1.columns[1:]]\n",
    "Y = df[df.columns[0]]\n",
    "\n",
    "X_train, X_test, Y_train, Y_test = train_test_split(X, Y, test_size=0.30, random_state = 30)\n",
    "\n",
    "\n",
    "# Train the model\n",
    "model1 = DecisionTreeClassifier(criterion='entropy')\n",
    "model1 = model1.fit(X_train,Y_train)"
   ]
  },
  {
   "cell_type": "code",
   "execution_count": 75,
   "metadata": {},
   "outputs": [],
   "source": [
    "# Model 2\n",
    "# Select the independent variables \n",
    "# select only the target lableled column\n",
    "X = df2[df2.columns[1:]]\n",
    "Y = df[df.columns[0]]\n",
    "\n",
    "X_train, X_test, Y_train, Y_test = train_test_split(X, Y, test_size=0.30, random_state = 30)\n",
    "\n",
    "# Train the model\n",
    "model2 = DecisionTreeClassifier(criterion='entropy')\n",
    "model2 = model2.fit(X_train,Y_train)"
   ]
  },
  {
   "cell_type": "code",
   "execution_count": 76,
   "metadata": {},
   "outputs": [],
   "source": [
    "# Model 3\n",
    "# Select the independent variables \n",
    "# select only the target lableled column\n",
    "X = df3[df3.columns[1:]]\n",
    "Y = df[df.columns[0]]\n",
    "\n",
    "X_train, X_test, Y_train, Y_test = train_test_split(X, Y, test_size=0.30, random_state = 30)\n",
    "\n",
    "# Train the model\n",
    "model3 = DecisionTreeClassifier(criterion='entropy')\n",
    "model3 = model3.fit(X_train,Y_train)"
   ]
  },
  {
   "cell_type": "code",
   "execution_count": 77,
   "metadata": {},
   "outputs": [],
   "source": [
    "# Model 4\n",
    "# Select the independent variables \n",
    "# select only the target lableled column\n",
    "X = df4[df4.columns[1:]]\n",
    "Y = df[df.columns[0]]\n",
    "\n",
    "X_train, X_test, Y_train, Y_test = train_test_split(X, Y, test_size=0.30, random_state = 30)\n",
    "\n",
    "# Train the model\n",
    "model4 = DecisionTreeClassifier(criterion='entropy')\n",
    "model4 = model4.fit(X_train,Y_train)"
   ]
  },
  {
   "cell_type": "code",
   "execution_count": 78,
   "metadata": {},
   "outputs": [],
   "source": [
    "# Model 5\n",
    "# Select the independent variables \n",
    "# select only the target lableled column\n",
    "X = df5[df5.columns[1:]]\n",
    "Y = df[df.columns[0]]\n",
    "\n",
    "X_train, X_test, Y_train, Y_test = train_test_split(X, Y, test_size=0.30, random_state = 30)\n",
    "\n",
    "# Train the model\n",
    "model5 = DecisionTreeClassifier(criterion='entropy')\n",
    "model5 = model5.fit(X_train,Y_train)"
   ]
  },
  {
   "cell_type": "code",
   "execution_count": 79,
   "metadata": {},
   "outputs": [],
   "source": [
    "# Apply Voting Classifier\n",
    "model = VotingClassifier(estimators=[('m1', model1), ('m2', model2), ('m3', model3),('m4', model4), ('m5', model5)], voting='hard')"
   ]
  },
  {
   "cell_type": "code",
   "execution_count": 80,
   "metadata": {},
   "outputs": [
    {
     "name": "stdout",
     "output_type": "stream",
     "text": [
      "              precision    recall  f1-score   support\n",
      "\n",
      "           A       0.86      0.84      0.85       229\n",
      "           B       0.67      0.79      0.73       228\n",
      "           C       0.84      0.80      0.82       220\n",
      "           D       0.70      0.75      0.73       219\n",
      "           E       0.83      0.82      0.82       232\n",
      "           F       0.72      0.68      0.70       225\n",
      "           G       0.69      0.72      0.70       234\n",
      "           H       0.76      0.73      0.74       206\n",
      "           I       0.91      0.89      0.90       236\n",
      "           J       0.87      0.87      0.87       209\n",
      "           K       0.81      0.83      0.82       213\n",
      "           L       0.86      0.83      0.85       239\n",
      "           M       0.82      0.81      0.81       240\n",
      "           N       0.82      0.84      0.83       239\n",
      "           O       0.83      0.77      0.80       243\n",
      "           P       0.80      0.82      0.81       243\n",
      "           Q       0.73      0.79      0.76       228\n",
      "           R       0.71      0.67      0.69       230\n",
      "           S       0.77      0.78      0.78       220\n",
      "           T       0.82      0.78      0.80       234\n",
      "           U       0.90      0.88      0.89       235\n",
      "           V       0.76      0.75      0.75       228\n",
      "           W       0.87      0.86      0.87       250\n",
      "           X       0.87      0.88      0.87       237\n",
      "           Y       0.72      0.69      0.71       252\n",
      "           Z       0.87      0.89      0.88       231\n",
      "\n",
      "    accuracy                           0.80      6000\n",
      "   macro avg       0.80      0.80      0.80      6000\n",
      "weighted avg       0.80      0.80      0.80      6000\n",
      "\n",
      "Confusion Matrix\n",
      "[[193   0   0   1   0   2   2   0   0   1   0   2   3   0   0   5   1   0\n",
      "    4   0   2   8   3   1   1   0]\n",
      " [  0 180   0   4   2   4   1   4   0   2   3   0   1   1   1   0   3   6\n",
      "    6   2   1   2   2   0   0   3]\n",
      " [  3   2 176   0   3   0  19   2   0   0   0   1   0   0   6   0   3   1\n",
      "    2   1   0   0   0   1   0   0]\n",
      " [  0   4   4 165   0   6   2   2   0   1   2   0   4   3   2   6   3   4\n",
      "    2   3   0   0   0   0   4   2]\n",
      " [  0   3   4   1 190   0   4   0   1   0   6   2   1   0   0   0   2   0\n",
      "    5   2   0   1   0   3   0   7]\n",
      " [  4   3   3   6   1 154   1   1   7   2   2   0   0   1   0  14   0   2\n",
      "    1   5   2   3   1   0  11   1]\n",
      " [  0   6   7   1   8   0 168   4   0   0   1   1   1   1   5   3  11   4\n",
      "    2   1   1   3   0   0   5   1]\n",
      " [  1   7   1   6   0   1   2 151   0   0   2   0   1   6   2   2   1   9\n",
      "    9   0   3   0   0   0   2   0]\n",
      " [  0   0   0   2   0   1   1   0 210   6   0   1   0   0   0   6   0   1\n",
      "    3   2   0   1   0   1   1   0]\n",
      " [  0   0   0   1   1   3   1   1   7 181   0   3   0   1   3   1   0   3\n",
      "    0   1   0   1   0   0   1   0]\n",
      " [  1   2   1   2   6   2   3   0   0   1 177   2   0   1   0   0   1   4\n",
      "    4   0   0   1   0   4   0   1]\n",
      " [  2   2   1   0   1   1   6   1   0   0   4 199   0   0   0   0   5   4\n",
      "    1   1   0   0   0   4   6   1]\n",
      " [  7   0   0   3   0   0   1   5   0   0   1   1 195   9   2   1   1   2\n",
      "    1   0   2   3   5   0   1   0]\n",
      " [  0   0   0  10   0   0   0   6   0   2   2   0   8 200   0   0   2   0\n",
      "    0   0   3   3   0   2   1   0]\n",
      " [  0   1   1   2   1   0   6   0   0   5   0   3   6   3 186   2   9   5\n",
      "    3   0   1   0   4   1   3   1]\n",
      " [  2   3   1   5   0  20   0   2   1   0   1   0   0   2   0 200   0   3\n",
      "    0   0   0   2   0   0   1   0]\n",
      " [  3   5   2   3   1   0   9   1   1   1   0   2   1   0   1   1 180   5\n",
      "    3   0   2   2   1   1   0   3]\n",
      " [  1  13   0  12   0   5   2   7   0   4   4   3   1   2   4   1   4 155\n",
      "    1   0   3   0   0   3   2   3]\n",
      " [  2  13   1   4   2   1   3   2   1   0   3   1   0   0   1   0   6   2\n",
      "  172   2   1   1   0   0   1   1]\n",
      " [  0   2   5   1   0   7   1   1   0   0   1   1   0   2   1   2   2   1\n",
      "    0 182   0   0   0   5  18   2]\n",
      " [  0   1   1   2   1   0   5   3   0   0   0   0   3   2   2   1   2   2\n",
      "    0   1 207   2   0   0   0   0]\n",
      " [  5  10   0   1   0   1   1   2   0   0   1   0   6   8   0   0   1   1\n",
      "    1   1   2 171  12   0   3   1]\n",
      " [  0   1   0   0   0   1   2   0   0   0   0   0   5   0   7   1   2   0\n",
      "    0   1   0  12 216   1   1   0]\n",
      " [  0   2   1   1   7   1   0   1   1   0   3   4   2   0   0   0   0   1\n",
      "    0   1   0   0   1 208   2   1]\n",
      " [  1   5   0   3   1   3   4   3   2   0   5   5   1   3   1   2   4   3\n",
      "    0  15   0   9   3   3 174   2]\n",
      " [  0   2   0   0   5   0   0   1   1   1   1   0   0   0   0   1   5   0\n",
      "    2   2   0   0   0   2   2 206]]\n",
      "\n",
      " Accuracy\n",
      "0.7993333333333333\n"
     ]
    }
   ],
   "source": [
    "# Calculate and print confusion matrix and other performance measures \n",
    "\n",
    "model_voting = model.fit(X_train,Y_train)\n",
    "\n",
    "# Predict results on the testing part\n",
    "predictions = model_voting.predict(X_test)\n",
    "\n",
    "print(classification_report(Y_test,predictions))\n",
    "print(\"Confusion Matrix\")\n",
    "print(confusion_matrix(Y_test,predictions))\n",
    "print(\"\\n Accuracy\")\n",
    "print(accuracy_score(Y_test,predictions))"
   ]
  },
  {
   "cell_type": "markdown",
   "metadata": {},
   "source": [
    "### Q4. Manipulating the classes"
   ]
  },
  {
   "cell_type": "raw",
   "metadata": {},
   "source": [
    "1. Convert the problem into two-class problem. Create 5 sets of two classes \n",
    "   using random vector \n",
    "2. Apply five Decision tree with same hyperparametrs on these five sets.\n",
    "3. Test on the testing part of the dataset\n",
    "(Note: The ensemble classifier would be evaluated on the entire dataset)"
   ]
  },
  {
   "cell_type": "code",
   "execution_count": 65,
   "metadata": {},
   "outputs": [
    {
     "name": "stdout",
     "output_type": "stream",
     "text": [
      "[[ 8. 21.  2. 13.  9. 11. 23. 22. 24. 16. 14.  6. 17.]\n",
      " [ 5.  8. 17. 22.  9. 18.  1. 21. 20. 23.  6. 12. 14.]\n",
      " [ 7. 18.  1. 21. 20. 14. 15. 11.  8. 17.  4.  2. 10.]\n",
      " [ 5. 20.  3.  2. 24. 11.  9.  8. 14. 23.  4.  7. 19.]\n",
      " [15. 18. 10.  5. 23. 19. 20.  8.  9.  7.  6. 11. 22.]]\n"
     ]
    }
   ],
   "source": [
    "# Generate 5 sets of two class representation\n",
    "import random\n",
    "feature_vector = np.zeros((5,13))\n",
    "for i in range(5):\n",
    " feature_vector[i]=random.sample(range(1,26),13)\n",
    "print(feature_vector)\n",
    "    \n",
    "df1 = df.copy (deep=True) \n",
    "df2 = df.copy (deep=True)\n",
    "df3 = df.copy (deep=True)\n",
    "df4 = df.copy (deep=True)\n",
    "df5 = df.copy (deep=True)\n",
    "\n",
    "for idx in range(len(df)):\n",
    "    col = ord(df.iloc[idx,0]) -64\n",
    "    \n",
    "    if col not in feature_vector[0]:\n",
    "        df1.iloc[idx,0] = '1'\n",
    "    else:\n",
    "        df1.iloc[idx,0] = '0'\n",
    "        \n",
    "    if col not in feature_vector[1]:\n",
    "        df1.iloc[idx,0] = '1'\n",
    "    else:\n",
    "        df1.iloc[idx,0] = '0'\n",
    "        \n",
    "    if col not in feature_vector[2]:\n",
    "        df1.iloc[idx,0] = '1'\n",
    "    else:\n",
    "        df1.iloc[idx,0] = '0'\n",
    "        \n",
    "    if col not in feature_vector[3]:\n",
    "        df1.iloc[idx,0] = '1'\n",
    "    else:\n",
    "        df1.iloc[idx,0] = '0'\n",
    "        \n",
    "    if col not in feature_vector[4]:\n",
    "        df1.iloc[idx,0] = '1'\n",
    "    else:\n",
    "        df1.iloc[idx,0] = '0'"
   ]
  },
  {
   "cell_type": "code",
   "execution_count": 66,
   "metadata": {},
   "outputs": [],
   "source": [
    "# Model 1\n",
    "# Select the independent variables \n",
    "# select only the target lableled column\n",
    "X = df1[df1.columns[1:]]\n",
    "Y = df1[df1.columns[0]]\n",
    "\n",
    "X_train, X_test, Y_train, Y_test = train_test_split(X, Y, test_size=0.30, random_state = 30)\n",
    "\n",
    "\n",
    "# Train the model\n",
    "model1 = DecisionTreeClassifier(criterion='entropy')\n",
    "model1 = model1.fit(X_train,Y_train)"
   ]
  },
  {
   "cell_type": "code",
   "execution_count": 67,
   "metadata": {},
   "outputs": [],
   "source": [
    "# Model 2\n",
    "# Select the independent variables \n",
    "# select only the target lableled column\n",
    "X = df2[df2.columns[1:]]\n",
    "Y = df2[df2.columns[0]]\n",
    "\n",
    "X_train, X_test, Y_train, Y_test = train_test_split(X, Y, test_size=0.30, random_state = 30)\n",
    "\n",
    "# Train the model\n",
    "model2 = DecisionTreeClassifier(criterion='entropy')\n",
    "model2 = model2.fit(X_train,Y_train)"
   ]
  },
  {
   "cell_type": "code",
   "execution_count": 68,
   "metadata": {},
   "outputs": [],
   "source": [
    "# Model 3\n",
    "# Select the independent variables \n",
    "# select only the target lableled column\n",
    "X = df3[df3.columns[1:]]\n",
    "Y = df3[df3.columns[0]]\n",
    "\n",
    "X_train, X_test, Y_train, Y_test = train_test_split(X, Y, test_size=0.30, random_state = 30)\n",
    "\n",
    "# Train the model\n",
    "model3 = DecisionTreeClassifier(criterion='entropy')\n",
    "model3 = model3.fit(X_train,Y_train)"
   ]
  },
  {
   "cell_type": "code",
   "execution_count": 69,
   "metadata": {},
   "outputs": [],
   "source": [
    "# Model 4\n",
    "# Select the independent variables \n",
    "# select only the target lableled column\n",
    "X = df4[df4.columns[1:]]\n",
    "Y = df4[df4.columns[0]]\n",
    "\n",
    "X_train, X_test, Y_train, Y_test = train_test_split(X, Y, test_size=0.30, random_state = 30)\n",
    "\n",
    "# Train the model\n",
    "model4 = DecisionTreeClassifier(criterion='entropy')\n",
    "model4 = model4.fit(X_train,Y_train)"
   ]
  },
  {
   "cell_type": "code",
   "execution_count": 70,
   "metadata": {},
   "outputs": [],
   "source": [
    "# Model 5\n",
    "# Select the independent variables \n",
    "# select only the target lableled column\n",
    "X = df5[df5.columns[1:]]\n",
    "Y = df5[df5.columns[0]]\n",
    "\n",
    "X_train, X_test, Y_train, Y_test = train_test_split(X, Y, test_size=0.30, random_state = 30)\n",
    "\n",
    "# Train the model\n",
    "model5 = DecisionTreeClassifier(criterion='entropy')\n",
    "model5 = model5.fit(X_train,Y_train)"
   ]
  },
  {
   "cell_type": "code",
   "execution_count": 71,
   "metadata": {},
   "outputs": [],
   "source": [
    "# Apply Voting Classifier\n",
    "model = VotingClassifier(estimators=[('m1', model1), ('m2', model2), ('m3', model3),('m4', model4), ('m5', model5)], voting='hard')"
   ]
  },
  {
   "cell_type": "code",
   "execution_count": 72,
   "metadata": {},
   "outputs": [
    {
     "name": "stdout",
     "output_type": "stream",
     "text": [
      "              precision    recall  f1-score   support\n",
      "\n",
      "           A       0.94      0.90      0.92       229\n",
      "           B       0.83      0.84      0.83       228\n",
      "           C       0.88      0.90      0.89       220\n",
      "           D       0.79      0.86      0.82       219\n",
      "           E       0.85      0.87      0.86       232\n",
      "           F       0.82      0.80      0.81       225\n",
      "           G       0.87      0.80      0.83       234\n",
      "           H       0.75      0.78      0.76       206\n",
      "           I       0.88      0.93      0.90       236\n",
      "           J       0.93      0.89      0.91       209\n",
      "           K       0.84      0.84      0.84       213\n",
      "           L       0.92      0.92      0.92       239\n",
      "           M       0.91      0.93      0.92       240\n",
      "           N       0.88      0.89      0.89       239\n",
      "           O       0.88      0.81      0.85       243\n",
      "           P       0.84      0.92      0.88       243\n",
      "           Q       0.88      0.83      0.86       228\n",
      "           R       0.83      0.83      0.83       230\n",
      "           S       0.90      0.85      0.87       220\n",
      "           T       0.87      0.90      0.88       234\n",
      "           U       0.88      0.92      0.90       235\n",
      "           V       0.92      0.87      0.89       228\n",
      "           W       0.92      0.91      0.91       250\n",
      "           X       0.85      0.89      0.87       237\n",
      "           Y       0.90      0.87      0.88       252\n",
      "           Z       0.90      0.85      0.88       231\n",
      "\n",
      "    accuracy                           0.87      6000\n",
      "   macro avg       0.87      0.87      0.87      6000\n",
      "weighted avg       0.87      0.87      0.87      6000\n",
      "\n",
      "Confusion Matrix\n",
      "[[207   3   0   5   0   0   0   1   4   2   2   0   0   1   1   0   0   1\n",
      "    0   0   1   0   0   0   1   0]\n",
      " [  0 192   0   3   2   0   1   5   0   1   2   2   0   0   0   5   1   3\n",
      "    1   2   0   2   4   2   0   0]\n",
      " [  0   0 198   1   5   0   5   2   0   0   2   0   0   0   0   2   3   1\n",
      "    1   0   0   0   0   0   0   0]\n",
      " [  0   1   1 189   0   1   5   6   1   0   0   0   0   4   4   0   0   4\n",
      "    0   0   0   0   0   2   1   0]\n",
      " [  0   0   2   0 202   1   2   1   0   0   7   3   0   0   0   0   3   1\n",
      "    3   3   0   1   0   3   0   0]\n",
      " [  0   2   1   0   2 180   0   2   4   1   0   0   0   0   1  12   0   0\n",
      "    2  10   0   1   1   2   2   2]\n",
      " [  2   2   5   4   7   1 188   3   0   0   0   1   2   1   2   4   5   2\n",
      "    1   0   3   0   1   0   0   0]\n",
      " [  1   2   0  11   0   1   2 160   1   0   7   0   1   3   1   1   0  10\n",
      "    1   0   3   0   0   1   0   0]\n",
      " [  0   0   0   1   2   3   0   0 220   2   0   0   0   0   0   2   0   1\n",
      "    1   0   0   0   0   1   1   2]\n",
      " [  1   1   0   1   0   2   0   0   7 187   0   3   0   1   0   1   0   0\n",
      "    1   0   2   0   0   0   0   2]\n",
      " [  0   1   1   2   2   0   2   6   2   0 178   0   2   1   0   0   0   4\n",
      "    2   2   0   0   0   8   0   0]\n",
      " [  0   1   6   2   2   0   1   0   2   0   0 221   0   0   0   1   0   1\n",
      "    0   0   1   0   0   1   0   0]\n",
      " [  1   1   0   0   1   0   0   1   0   0   3   0 222   2   1   1   1   1\n",
      "    0   0   1   1   2   0   1   0]\n",
      " [  0   1   0   5   0   1   0   0   0   0   1   0   2 213   3   0   0   2\n",
      "    0   0   7   2   2   0   0   0]\n",
      " [  0   2   2   3   0   0   2   6   0   2   0   2   0   3 198   0   8   1\n",
      "    4   1   5   0   3   1   0   0]\n",
      " [  0   1   0   0   0   6   0   2   1   0   0   0   0   1   0 224   1   0\n",
      "    0   2   0   0   2   1   2   0]\n",
      " [  3   1   3   0   2   0   2   2   2   0   0   0   0   0   5   2 190   1\n",
      "    2   0   1   1   1   3   1   6]\n",
      " [  1  10   2   4   2   2   0   7   0   0   5   0   0   1   0   2   1 192\n",
      "    0   0   0   0   0   0   0   1]\n",
      " [  0   1   0   1   5   4   1   3   2   1   0   1   0   0   1   2   0   2\n",
      "  187   1   1   0   1   3   0   3]\n",
      " [  0   1   1   2   0   5   0   1   0   0   0   0   0   0   0   0   0   1\n",
      "    0 211   0   2   0   2   7   1]\n",
      " [  0   0   1   2   0   0   0   0   1   0   1   0   3   4   2   0   1   0\n",
      "    0   2 216   0   0   0   2   0]\n",
      " [  3   3   0   0   0   3   0   1   0   0   1   0   4   5   0   1   0   0\n",
      "    0   0   1 198   3   0   5   0]\n",
      " [  0   1   1   0   0   0   2   0   0   0   0   0   6   1   5   1   1   1\n",
      "    0   1   1   2 227   0   0   0]\n",
      " [  0   3   1   1   2   5   0   1   0   2   1   3   0   0   0   0   0   2\n",
      "    0   0   0   0   0 212   0   4]\n",
      " [  1   0   1   1   0   5   1   1   0   0   1   1   1   1   0   6   0   0\n",
      "    0   6   2   5   0   0 218   1]\n",
      " [  0   2   0   2   2   0   3   2   4   4   0   2   0   0   0   0   1   0\n",
      "    2   2   0   0   0   7   1 197]]\n",
      "\n",
      " Accuracy\n",
      "0.8711666666666666\n"
     ]
    }
   ],
   "source": [
    "# Calculate and print confusion matrix and other performance measures \n",
    "model_voting = model.fit(X_train,Y_train)\n",
    "\n",
    "# Predict results on the testing part\n",
    "predictions = model_voting.predict(X_test)\n",
    "\n",
    "print(classification_report(Y_test,predictions))\n",
    "print(\"Confusion Matrix\")\n",
    "print(confusion_matrix(Y_test,predictions))\n",
    "print(\"\\n Accuracy\")\n",
    "print(accuracy_score(Y_test,predictions))"
   ]
  },
  {
   "cell_type": "markdown",
   "metadata": {},
   "source": [
    "### Q5. Which method performs the best"
   ]
  },
  {
   "cell_type": "markdown",
   "metadata": {
    "collapsed": true
   },
   "source": [
    "Getting an accuracy of about 87% by manipulating the classes (at question no. 4)"
   ]
  },
  {
   "cell_type": "code",
   "execution_count": null,
   "metadata": {},
   "outputs": [],
   "source": []
  }
 ],
 "metadata": {
  "kernelspec": {
   "display_name": ".conda",
   "language": "python",
   "name": "python3"
  },
  "language_info": {
   "codemirror_mode": {
    "name": "ipython",
    "version": 3
   },
   "file_extension": ".py",
   "mimetype": "text/x-python",
   "name": "python",
   "nbconvert_exporter": "python",
   "pygments_lexer": "ipython3",
   "version": "3.8.19"
  }
 },
 "nbformat": 4,
 "nbformat_minor": 2
}
