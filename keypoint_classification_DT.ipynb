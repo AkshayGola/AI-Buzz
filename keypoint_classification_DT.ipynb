{
 "cells": [
  {
   "cell_type": "code",
   "execution_count": 19,
   "metadata": {
    "id": "igMyGnjE9hEp"
   },
   "outputs": [],
   "source": [
    "import pandas as pd\n",
    "import numpy as np\n",
    "from sklearn.model_selection import train_test_split\n",
    "from sklearn.tree import DecisionTreeClassifier\n",
    "from sklearn.metrics import classification_report, confusion_matrix\n",
    "from sklearn.metrics import accuracy_score\n",
    "from sklearn import tree\n",
    "import matplotlib.pyplot as plt\n",
    "import joblib\n",
    "\n",
    "RANDOM_SEED = 42\n"
   ]
  },
  {
   "cell_type": "code",
   "execution_count": 20,
   "metadata": {},
   "outputs": [
    {
     "name": "stdout",
     "output_type": "stream",
     "text": [
      "The scikit-learn version is 1.3.2.\n"
     ]
    }
   ],
   "source": [
    "import sklearn\n",
    "\n",
    "print('The scikit-learn version is {}.'.format(sklearn.__version__))"
   ]
  },
  {
   "cell_type": "code",
   "execution_count": 21,
   "metadata": {},
   "outputs": [
    {
     "name": "stdout",
     "output_type": "stream",
     "text": [
      "The scikit-learn version is 1.3.2.\n"
     ]
    }
   ],
   "source": [
    "print('The scikit-learn version is {}.'.format(sklearn.__version__))"
   ]
  },
  {
   "cell_type": "markdown",
   "metadata": {
    "id": "t2HDvhIu9hEr"
   },
   "source": [
    "# Specify each path"
   ]
  },
  {
   "cell_type": "code",
   "execution_count": 22,
   "metadata": {
    "id": "9NvZP2Zn9hEy"
   },
   "outputs": [
    {
     "data": {
      "text/html": [
       "<div>\n",
       "<style scoped>\n",
       "    .dataframe tbody tr th:only-of-type {\n",
       "        vertical-align: middle;\n",
       "    }\n",
       "\n",
       "    .dataframe tbody tr th {\n",
       "        vertical-align: top;\n",
       "    }\n",
       "\n",
       "    .dataframe thead th {\n",
       "        text-align: right;\n",
       "    }\n",
       "</style>\n",
       "<table border=\"1\" class=\"dataframe\">\n",
       "  <thead>\n",
       "    <tr style=\"text-align: right;\">\n",
       "      <th></th>\n",
       "      <th>0</th>\n",
       "      <th>1</th>\n",
       "      <th>2</th>\n",
       "      <th>3</th>\n",
       "      <th>4</th>\n",
       "      <th>5</th>\n",
       "      <th>6</th>\n",
       "      <th>7</th>\n",
       "      <th>8</th>\n",
       "      <th>9</th>\n",
       "      <th>...</th>\n",
       "      <th>33</th>\n",
       "      <th>34</th>\n",
       "      <th>35</th>\n",
       "      <th>36</th>\n",
       "      <th>37</th>\n",
       "      <th>38</th>\n",
       "      <th>39</th>\n",
       "      <th>40</th>\n",
       "      <th>41</th>\n",
       "      <th>42</th>\n",
       "    </tr>\n",
       "  </thead>\n",
       "  <tbody>\n",
       "    <tr>\n",
       "      <th>0</th>\n",
       "      <td>0</td>\n",
       "      <td>-0.422222</td>\n",
       "      <td>0.0</td>\n",
       "      <td>-0.255556</td>\n",
       "      <td>-0.400000</td>\n",
       "      <td>-0.183333</td>\n",
       "      <td>-0.316667</td>\n",
       "      <td>-0.222222</td>\n",
       "      <td>-0.138889</td>\n",
       "      <td>0.022222</td>\n",
       "      <td>...</td>\n",
       "      <td>-0.455556</td>\n",
       "      <td>-1.0</td>\n",
       "      <td>0.311111</td>\n",
       "      <td>-0.866667</td>\n",
       "      <td>-0.266667</td>\n",
       "      <td>-0.016667</td>\n",
       "      <td>-0.255556</td>\n",
       "      <td>-0.044444</td>\n",
       "      <td>-0.244444</td>\n",
       "      <td>-0.072222</td>\n",
       "    </tr>\n",
       "    <tr>\n",
       "      <th>1</th>\n",
       "      <td>0</td>\n",
       "      <td>-0.418478</td>\n",
       "      <td>0.0</td>\n",
       "      <td>-0.228261</td>\n",
       "      <td>-0.358696</td>\n",
       "      <td>-0.157609</td>\n",
       "      <td>-0.298913</td>\n",
       "      <td>-0.228261</td>\n",
       "      <td>-0.125000</td>\n",
       "      <td>0.032609</td>\n",
       "      <td>...</td>\n",
       "      <td>-0.461957</td>\n",
       "      <td>-1.0</td>\n",
       "      <td>0.288043</td>\n",
       "      <td>-0.891304</td>\n",
       "      <td>-0.250000</td>\n",
       "      <td>-0.010870</td>\n",
       "      <td>-0.244565</td>\n",
       "      <td>-0.032609</td>\n",
       "      <td>-0.255435</td>\n",
       "      <td>-0.065217</td>\n",
       "    </tr>\n",
       "    <tr>\n",
       "      <th>2</th>\n",
       "      <td>0</td>\n",
       "      <td>-0.362637</td>\n",
       "      <td>0.0</td>\n",
       "      <td>-0.186813</td>\n",
       "      <td>-0.373626</td>\n",
       "      <td>-0.131868</td>\n",
       "      <td>-0.318681</td>\n",
       "      <td>-0.241758</td>\n",
       "      <td>-0.175824</td>\n",
       "      <td>0.104396</td>\n",
       "      <td>...</td>\n",
       "      <td>-0.340659</td>\n",
       "      <td>-1.0</td>\n",
       "      <td>0.373626</td>\n",
       "      <td>-0.807692</td>\n",
       "      <td>-0.247253</td>\n",
       "      <td>-0.060440</td>\n",
       "      <td>-0.230769</td>\n",
       "      <td>-0.054945</td>\n",
       "      <td>-0.236264</td>\n",
       "      <td>-0.076923</td>\n",
       "    </tr>\n",
       "    <tr>\n",
       "      <th>3</th>\n",
       "      <td>0</td>\n",
       "      <td>-0.394444</td>\n",
       "      <td>0.0</td>\n",
       "      <td>-0.250000</td>\n",
       "      <td>-0.394444</td>\n",
       "      <td>-0.166667</td>\n",
       "      <td>-0.311111</td>\n",
       "      <td>-0.211111</td>\n",
       "      <td>-0.133333</td>\n",
       "      <td>0.022222</td>\n",
       "      <td>...</td>\n",
       "      <td>-0.472222</td>\n",
       "      <td>-1.0</td>\n",
       "      <td>0.288889</td>\n",
       "      <td>-0.877778</td>\n",
       "      <td>-0.266667</td>\n",
       "      <td>-0.011111</td>\n",
       "      <td>-0.250000</td>\n",
       "      <td>-0.038889</td>\n",
       "      <td>-0.244444</td>\n",
       "      <td>-0.072222</td>\n",
       "    </tr>\n",
       "    <tr>\n",
       "      <th>4</th>\n",
       "      <td>0</td>\n",
       "      <td>-0.387435</td>\n",
       "      <td>0.0</td>\n",
       "      <td>-0.282723</td>\n",
       "      <td>-0.403141</td>\n",
       "      <td>-0.141361</td>\n",
       "      <td>-0.324607</td>\n",
       "      <td>-0.214660</td>\n",
       "      <td>-0.162304</td>\n",
       "      <td>0.078534</td>\n",
       "      <td>...</td>\n",
       "      <td>-0.429319</td>\n",
       "      <td>-1.0</td>\n",
       "      <td>0.345550</td>\n",
       "      <td>-0.837696</td>\n",
       "      <td>-0.287958</td>\n",
       "      <td>-0.041885</td>\n",
       "      <td>-0.246073</td>\n",
       "      <td>-0.052356</td>\n",
       "      <td>-0.240838</td>\n",
       "      <td>-0.068063</td>\n",
       "    </tr>\n",
       "  </tbody>\n",
       "</table>\n",
       "<p>5 rows × 43 columns</p>\n",
       "</div>"
      ],
      "text/plain": [
       "   0         1    2         3         4         5         6         7   \\\n",
       "0   0 -0.422222  0.0 -0.255556 -0.400000 -0.183333 -0.316667 -0.222222   \n",
       "1   0 -0.418478  0.0 -0.228261 -0.358696 -0.157609 -0.298913 -0.228261   \n",
       "2   0 -0.362637  0.0 -0.186813 -0.373626 -0.131868 -0.318681 -0.241758   \n",
       "3   0 -0.394444  0.0 -0.250000 -0.394444 -0.166667 -0.311111 -0.211111   \n",
       "4   0 -0.387435  0.0 -0.282723 -0.403141 -0.141361 -0.324607 -0.214660   \n",
       "\n",
       "         8         9   ...        33   34        35        36        37  \\\n",
       "0 -0.138889  0.022222  ... -0.455556 -1.0  0.311111 -0.866667 -0.266667   \n",
       "1 -0.125000  0.032609  ... -0.461957 -1.0  0.288043 -0.891304 -0.250000   \n",
       "2 -0.175824  0.104396  ... -0.340659 -1.0  0.373626 -0.807692 -0.247253   \n",
       "3 -0.133333  0.022222  ... -0.472222 -1.0  0.288889 -0.877778 -0.266667   \n",
       "4 -0.162304  0.078534  ... -0.429319 -1.0  0.345550 -0.837696 -0.287958   \n",
       "\n",
       "         38        39        40        41        42  \n",
       "0 -0.016667 -0.255556 -0.044444 -0.244444 -0.072222  \n",
       "1 -0.010870 -0.244565 -0.032609 -0.255435 -0.065217  \n",
       "2 -0.060440 -0.230769 -0.054945 -0.236264 -0.076923  \n",
       "3 -0.011111 -0.250000 -0.038889 -0.244444 -0.072222  \n",
       "4 -0.041885 -0.246073 -0.052356 -0.240838 -0.068063  \n",
       "\n",
       "[5 rows x 43 columns]"
      ]
     },
     "execution_count": 22,
     "metadata": {},
     "output_type": "execute_result"
    }
   ],
   "source": [
    "dataset = 'model/gesture_classifier/gesture_train_akshay.csv'\n",
    "#dataset = 'model/gesture_classifier/gesture_train_kailash.csv'\n",
    "\n",
    "df = pd.read_csv(dataset, header = None)\n",
    "df.head()"
   ]
  },
  {
   "cell_type": "markdown",
   "metadata": {
    "id": "s5oMH7x19hEz"
   },
   "source": [
    "# Set number of classes"
   ]
  },
  {
   "cell_type": "code",
   "execution_count": 23,
   "metadata": {
    "id": "du4kodXL9hEz"
   },
   "outputs": [],
   "source": [
    "NUM_CLASSES = 6"
   ]
  },
  {
   "cell_type": "code",
   "execution_count": 24,
   "metadata": {},
   "outputs": [
    {
     "name": "stdout",
     "output_type": "stream",
     "text": [
      "             1    2         3         4         5         6         7   \\\n",
      "0     -0.422222  0.0 -0.255556 -0.400000 -0.183333 -0.316667 -0.222222   \n",
      "1     -0.418478  0.0 -0.228261 -0.358696 -0.157609 -0.298913 -0.228261   \n",
      "2     -0.362637  0.0 -0.186813 -0.373626 -0.131868 -0.318681 -0.241758   \n",
      "3     -0.394444  0.0 -0.250000 -0.394444 -0.166667 -0.311111 -0.211111   \n",
      "4     -0.387435  0.0 -0.282723 -0.403141 -0.141361 -0.324607 -0.214660   \n",
      "...         ...  ...       ...       ...       ...       ...       ...   \n",
      "17008 -0.437158  0.0 -0.087432 -0.382514 -0.016393 -0.256831 -0.005464   \n",
      "17009 -0.452514  0.0 -0.117318 -0.368715 -0.022346 -0.262570  0.005587   \n",
      "17010 -0.502762  0.0 -0.149171 -0.370166 -0.055249 -0.292818 -0.044199   \n",
      "17011 -0.547486  0.0 -0.212291 -0.324022 -0.128492 -0.284916 -0.162011   \n",
      "17012 -0.631285  0.0 -0.262570 -0.268156 -0.178771 -0.229050 -0.256983   \n",
      "\n",
      "             8         9         10  ...        33   34        35        36  \\\n",
      "0     -0.138889  0.022222 -0.288889  ... -0.455556 -1.0  0.311111 -0.866667   \n",
      "1     -0.125000  0.032609 -0.250000  ... -0.461957 -1.0  0.288043 -0.891304   \n",
      "2     -0.175824  0.104396 -0.203297  ... -0.340659 -1.0  0.373626 -0.807692   \n",
      "3     -0.133333  0.022222 -0.277778  ... -0.472222 -1.0  0.288889 -0.877778   \n",
      "4     -0.162304  0.078534 -0.219895  ... -0.429319 -1.0  0.345550 -0.837696   \n",
      "...         ...       ...       ...  ...       ...  ...       ...       ...   \n",
      "17008 -0.202186 -0.202186 -0.338798  ... -0.109290 -1.0  0.163934 -0.693989   \n",
      "17009 -0.229050 -0.139665 -0.363128  ... -0.173184 -1.0  0.139665 -0.698324   \n",
      "17010 -0.259669 -0.099448 -0.342541  ... -0.259669 -1.0  0.138122 -0.690608   \n",
      "17011 -0.234637 -0.089385 -0.379888  ... -0.385475 -1.0  0.027933 -0.620112   \n",
      "17012 -0.189944 -0.050279 -0.357542  ... -0.564246 -1.0 -0.033520 -0.575419   \n",
      "\n",
      "             37        38        39        40        41        42  \n",
      "0     -0.266667 -0.016667 -0.255556 -0.044444 -0.244444 -0.072222  \n",
      "1     -0.250000 -0.010870 -0.244565 -0.032609 -0.255435 -0.065217  \n",
      "2     -0.247253 -0.060440 -0.230769 -0.054945 -0.236264 -0.076923  \n",
      "3     -0.266667 -0.011111 -0.250000 -0.038889 -0.244444 -0.072222  \n",
      "4     -0.287958 -0.041885 -0.246073 -0.052356 -0.240838 -0.068063  \n",
      "...         ...       ...       ...       ...       ...       ...  \n",
      "17008 -0.196721 -0.049180 -0.065574 -0.109290 -0.010929 -0.147541  \n",
      "17009 -0.195531 -0.044693 -0.089385 -0.111732 -0.027933 -0.145251  \n",
      "17010 -0.209945 -0.033149 -0.121547 -0.110497 -0.066298 -0.165746  \n",
      "17011 -0.178771 -0.061453 -0.134078 -0.139665 -0.100559 -0.178771  \n",
      "17012 -0.189944 -0.055866 -0.173184 -0.150838 -0.167598 -0.217877  \n",
      "\n",
      "[17013 rows x 42 columns]\n",
      "        0\n",
      "0       0\n",
      "1       0\n",
      "2       0\n",
      "3       0\n",
      "4       0\n",
      "...    ..\n",
      "17008  25\n",
      "17009  25\n",
      "17010  25\n",
      "17011  25\n",
      "17012  25\n",
      "\n",
      "[17013 rows x 1 columns]\n"
     ]
    }
   ],
   "source": [
    "X = df.iloc[:, 1:]\n",
    "Y = df.iloc[:, :1]\n",
    "\n",
    "# print(X.head)\n",
    "# print(Y.head)\n",
    "\n",
    "print(X)\n",
    "print(Y)"
   ]
  },
  {
   "cell_type": "markdown",
   "metadata": {
    "id": "XjnL0uso9hEz"
   },
   "source": [
    "# Dataset reading"
   ]
  },
  {
   "cell_type": "code",
   "execution_count": 25,
   "metadata": {
    "colab": {
     "base_uri": "https://localhost:8080/"
    },
    "id": "ypqky9tc9hE1",
    "outputId": "5db082bb-30e3-4110-bf63-a1ee777ecd46"
   },
   "outputs": [
    {
     "name": "stdout",
     "output_type": "stream",
     "text": [
      "\n",
      " Accuracy\n",
      "0.9892241379310345\n"
     ]
    }
   ],
   "source": [
    "X_train, X_test, Y_train, Y_test = train_test_split(X, Y,test_size = 0.30 , random_state = RANDOM_SEED)\n",
    "\n",
    "Dtree = DecisionTreeClassifier(random_state = RANDOM_SEED) \n",
    "Dtree.fit(X_train, Y_train)\n",
    "\n",
    "predictions = Dtree.predict(X_test)\n",
    "\n",
    "\n",
    "# print(classification_report(Y_test, predictions))\n",
    "\n",
    "# print(\"Confusion Matrix\")\n",
    "# print(confusion_matrix(Y_test, predictions))\n",
    "\n",
    "print(\"\\n Accuracy\")\n",
    "print(accuracy_score(Y_test, predictions))\n"
   ]
  },
  {
   "cell_type": "code",
   "execution_count": 26,
   "metadata": {},
   "outputs": [
    {
     "name": "stdout",
     "output_type": "stream",
     "text": [
      "              precision    recall  f1-score   support\n",
      "\n",
      "           0       1.00      0.99      1.00       192\n",
      "           1       0.98      0.98      0.98       187\n",
      "           2       0.98      1.00      0.99       328\n",
      "           3       1.00      1.00      1.00       193\n",
      "           4       1.00      1.00      1.00       212\n",
      "           5       0.99      0.99      0.99       398\n",
      "           6       1.00      0.97      0.99        76\n",
      "           7       1.00      1.00      1.00       234\n",
      "           8       0.99      0.99      0.99       191\n",
      "           9       0.99      1.00      1.00       182\n",
      "          10       0.90      0.85      0.88        33\n",
      "          11       1.00      0.88      0.94        43\n",
      "          12       0.96      1.00      0.98        72\n",
      "          13       0.98      1.00      0.99       120\n",
      "          14       1.00      1.00      1.00       291\n",
      "          15       0.97      0.93      0.95       121\n",
      "          16       0.97      0.98      0.97        89\n",
      "          17       0.99      0.97      0.98       195\n",
      "          18       0.95      0.97      0.96       111\n",
      "          19       1.00      1.00      1.00       245\n",
      "          20       0.99      1.00      0.99       150\n",
      "          21       0.98      1.00      0.99       241\n",
      "          22       0.98      0.97      0.98       189\n",
      "          23       0.99      1.00      0.99       278\n",
      "          24       0.99      0.98      0.99       370\n",
      "          25       1.00      0.99      1.00       363\n",
      "\n",
      "    accuracy                           0.99      5104\n",
      "   macro avg       0.98      0.98      0.98      5104\n",
      "weighted avg       0.99      0.99      0.99      5104\n",
      "\n",
      "Confusion Matrix\n",
      "[[191   0   0   0   0   1   0   0   0   0   0   0   0   0   0   0   0   0\n",
      "    0   0   0   0   0   0   0   0]\n",
      " [  0 184   0   0   0   0   0   0   0   0   2   0   0   0   0   0   1   0\n",
      "    0   0   0   0   0   0   0   0]\n",
      " [  0   0 328   0   0   0   0   0   0   0   0   0   0   0   0   0   0   0\n",
      "    0   0   0   0   0   0   0   0]\n",
      " [  0   0   0 193   0   0   0   0   0   0   0   0   0   0   0   0   0   0\n",
      "    0   0   0   0   0   0   0   0]\n",
      " [  0   0   0   0 212   0   0   0   0   0   0   0   0   0   0   0   0   0\n",
      "    0   0   0   0   0   0   0   0]\n",
      " [  0   0   0   0   0 395   0   0   1   0   0   0   2   0   0   0   0   0\n",
      "    0   0   0   0   0   0   0   0]\n",
      " [  0   0   0   0   0   0  74   0   0   0   0   0   1   0   0   0   0   0\n",
      "    0   0   0   0   0   0   0   1]\n",
      " [  0   0   0   0   0   0   0 234   0   0   0   0   0   0   0   0   0   0\n",
      "    0   0   0   0   0   0   0   0]\n",
      " [  0   0   0   0   0   1   0   0 189   0   0   0   0   1   0   0   0   0\n",
      "    0   0   0   0   0   0   0   0]\n",
      " [  0   0   0   0   0   0   0   0   0 182   0   0   0   0   0   0   0   0\n",
      "    0   0   0   0   0   0   0   0]\n",
      " [  0   1   0   0   0   0   0   0   0   0  28   0   0   0   0   1   0   0\n",
      "    0   0   0   0   0   2   1   0]\n",
      " [  0   0   3   0   0   0   0   0   1   0   0  38   0   0   0   0   0   0\n",
      "    0   0   0   1   0   0   0   0]\n",
      " [  0   0   0   0   0   0   0   0   0   0   0   0  72   0   0   0   0   0\n",
      "    0   0   0   0   0   0   0   0]\n",
      " [  0   0   0   0   0   0   0   0   0   0   0   0   0 120   0   0   0   0\n",
      "    0   0   0   0   0   0   0   0]\n",
      " [  0   0   0   0   0   0   0   0   0   0   0   0   0   0 291   0   0   0\n",
      "    0   0   0   0   0   0   0   0]\n",
      " [  0   0   0   0   0   0   0   0   0   0   1   0   0   0   0 113   2   0\n",
      "    0   0   2   0   3   0   0   0]\n",
      " [  0   0   0   0   0   0   0   0   0   0   0   0   0   0   0   2  87   0\n",
      "    0   0   0   0   0   0   0   0]\n",
      " [  0   0   0   0   0   1   0   0   0   0   0   0   0   0   0   0   0 190\n",
      "    4   0   0   0   0   0   0   0]\n",
      " [  0   0   0   0   0   0   0   0   0   0   0   0   0   0   0   0   0   2\n",
      "  108   0   0   0   0   0   1   0]\n",
      " [  0   0   0   0   0   0   0   0   0   0   0   0   0   0   0   0   0   0\n",
      "    0 245   0   0   0   0   0   0]\n",
      " [  0   0   0   0   0   0   0   0   0   0   0   0   0   0   0   0   0   0\n",
      "    0   0 150   0   0   0   0   0]\n",
      " [  0   0   0   0   0   0   0   0   0   0   0   0   0   0   0   0   0   0\n",
      "    0   0   0 241   0   0   0   0]\n",
      " [  0   3   2   0   0   0   0   0   0   0   0   0   0   1   0   0   0   0\n",
      "    0   0   0   0 183   0   0   0]\n",
      " [  0   0   0   0   0   0   0   0   0   0   0   0   0   0   0   0   0   0\n",
      "    0   0   0   0   0 278   0   0]\n",
      " [  0   0   1   0   0   0   0   0   0   1   0   0   0   0   0   0   0   0\n",
      "    2   0   0   2   0   2 362   0]\n",
      " [  0   0   0   0   0   1   0   0   0   0   0   0   0   0   0   0   0   0\n",
      "    0   0   0   1   0   0   0 361]]\n",
      "\n",
      " Accuracy\n",
      "0.9892241379310345\n"
     ]
    }
   ],
   "source": [
    "# Calculate and print confusion matrix and other performance measures \n",
    "print(classification_report(Y_test,predictions))\n",
    "print(\"Confusion Matrix\")\n",
    "print(confusion_matrix(Y_test,predictions))\n",
    "print(\"\\n Accuracy\")\n",
    "print(accuracy_score(Y_test,predictions))"
   ]
  },
  {
   "cell_type": "markdown",
   "metadata": {},
   "source": [
    "Saving Model"
   ]
  },
  {
   "cell_type": "code",
   "execution_count": 27,
   "metadata": {},
   "outputs": [
    {
     "data": {
      "text/plain": [
       "['DT_gesture_model_akshay.pkl']"
      ]
     },
     "execution_count": 27,
     "metadata": {},
     "output_type": "execute_result"
    }
   ],
   "source": [
    "joblib.dump(Dtree, \"DT_gesture_model_akshay.pkl\") "
   ]
  }
 ],
 "metadata": {
  "accelerator": "GPU",
  "colab": {
   "collapsed_sections": [],
   "name": "keypoint_classification_EN.ipynb",
   "provenance": [],
   "toc_visible": true
  },
  "kernelspec": {
   "display_name": ".conda",
   "language": "python",
   "name": "python3"
  },
  "language_info": {
   "codemirror_mode": {
    "name": "ipython",
    "version": 3
   },
   "file_extension": ".py",
   "mimetype": "text/x-python",
   "name": "python",
   "nbconvert_exporter": "python",
   "pygments_lexer": "ipython3",
   "version": "3.8.19"
  }
 },
 "nbformat": 4,
 "nbformat_minor": 0
}
