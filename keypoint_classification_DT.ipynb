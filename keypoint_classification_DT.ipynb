{
 "cells": [
  {
   "cell_type": "code",
   "execution_count": 70,
   "metadata": {
    "id": "igMyGnjE9hEp"
   },
   "outputs": [],
   "source": [
    "import pandas as pd\n",
    "import numpy as np\n",
    "from sklearn.model_selection import train_test_split\n",
    "from sklearn.tree import DecisionTreeClassifier\n",
    "from sklearn.metrics import classification_report, confusion_matrix\n",
    "from sklearn.metrics import accuracy_score\n",
    "from sklearn import tree\n",
    "import matplotlib.pyplot as plt\n",
    "import joblib\n",
    "\n",
    "RANDOM_SEED = 42\n"
   ]
  },
  {
   "cell_type": "code",
   "execution_count": 71,
   "metadata": {},
   "outputs": [
    {
     "name": "stdout",
     "output_type": "stream",
     "text": [
      "The scikit-learn version is 1.3.2.\n"
     ]
    }
   ],
   "source": [
    "import sklearn\n",
    "\n",
    "print('The scikit-learn version is {}.'.format(sklearn.__version__))"
   ]
  },
  {
   "cell_type": "code",
   "execution_count": 72,
   "metadata": {},
   "outputs": [
    {
     "name": "stdout",
     "output_type": "stream",
     "text": [
      "The scikit-learn version is 1.3.2.\n"
     ]
    }
   ],
   "source": [
    "print('The scikit-learn version is {}.'.format(sklearn.__version__))"
   ]
  },
  {
   "cell_type": "markdown",
   "metadata": {
    "id": "t2HDvhIu9hEr"
   },
   "source": [
    "# Specify each path"
   ]
  },
  {
   "cell_type": "code",
   "execution_count": 73,
   "metadata": {
    "id": "9NvZP2Zn9hEy"
   },
   "outputs": [
    {
     "data": {
      "text/html": [
       "<div>\n",
       "<style scoped>\n",
       "    .dataframe tbody tr th:only-of-type {\n",
       "        vertical-align: middle;\n",
       "    }\n",
       "\n",
       "    .dataframe tbody tr th {\n",
       "        vertical-align: top;\n",
       "    }\n",
       "\n",
       "    .dataframe thead th {\n",
       "        text-align: right;\n",
       "    }\n",
       "</style>\n",
       "<table border=\"1\" class=\"dataframe\">\n",
       "  <thead>\n",
       "    <tr style=\"text-align: right;\">\n",
       "      <th></th>\n",
       "      <th>0</th>\n",
       "      <th>1</th>\n",
       "      <th>2</th>\n",
       "      <th>3</th>\n",
       "      <th>4</th>\n",
       "      <th>5</th>\n",
       "      <th>6</th>\n",
       "      <th>7</th>\n",
       "      <th>8</th>\n",
       "      <th>9</th>\n",
       "      <th>...</th>\n",
       "      <th>33</th>\n",
       "      <th>34</th>\n",
       "      <th>35</th>\n",
       "      <th>36</th>\n",
       "      <th>37</th>\n",
       "      <th>38</th>\n",
       "      <th>39</th>\n",
       "      <th>40</th>\n",
       "      <th>41</th>\n",
       "      <th>42</th>\n",
       "    </tr>\n",
       "  </thead>\n",
       "  <tbody>\n",
       "    <tr>\n",
       "      <th>0</th>\n",
       "      <td>0</td>\n",
       "      <td>-0.422222</td>\n",
       "      <td>0.0</td>\n",
       "      <td>-0.255556</td>\n",
       "      <td>-0.400000</td>\n",
       "      <td>-0.183333</td>\n",
       "      <td>-0.316667</td>\n",
       "      <td>-0.222222</td>\n",
       "      <td>-0.138889</td>\n",
       "      <td>0.022222</td>\n",
       "      <td>...</td>\n",
       "      <td>-0.455556</td>\n",
       "      <td>-1.0</td>\n",
       "      <td>0.311111</td>\n",
       "      <td>-0.866667</td>\n",
       "      <td>-0.266667</td>\n",
       "      <td>-0.016667</td>\n",
       "      <td>-0.255556</td>\n",
       "      <td>-0.044444</td>\n",
       "      <td>-0.244444</td>\n",
       "      <td>-0.072222</td>\n",
       "    </tr>\n",
       "    <tr>\n",
       "      <th>1</th>\n",
       "      <td>0</td>\n",
       "      <td>-0.418478</td>\n",
       "      <td>0.0</td>\n",
       "      <td>-0.228261</td>\n",
       "      <td>-0.358696</td>\n",
       "      <td>-0.157609</td>\n",
       "      <td>-0.298913</td>\n",
       "      <td>-0.228261</td>\n",
       "      <td>-0.125000</td>\n",
       "      <td>0.032609</td>\n",
       "      <td>...</td>\n",
       "      <td>-0.461957</td>\n",
       "      <td>-1.0</td>\n",
       "      <td>0.288043</td>\n",
       "      <td>-0.891304</td>\n",
       "      <td>-0.250000</td>\n",
       "      <td>-0.010870</td>\n",
       "      <td>-0.244565</td>\n",
       "      <td>-0.032609</td>\n",
       "      <td>-0.255435</td>\n",
       "      <td>-0.065217</td>\n",
       "    </tr>\n",
       "    <tr>\n",
       "      <th>2</th>\n",
       "      <td>0</td>\n",
       "      <td>-0.362637</td>\n",
       "      <td>0.0</td>\n",
       "      <td>-0.186813</td>\n",
       "      <td>-0.373626</td>\n",
       "      <td>-0.131868</td>\n",
       "      <td>-0.318681</td>\n",
       "      <td>-0.241758</td>\n",
       "      <td>-0.175824</td>\n",
       "      <td>0.104396</td>\n",
       "      <td>...</td>\n",
       "      <td>-0.340659</td>\n",
       "      <td>-1.0</td>\n",
       "      <td>0.373626</td>\n",
       "      <td>-0.807692</td>\n",
       "      <td>-0.247253</td>\n",
       "      <td>-0.060440</td>\n",
       "      <td>-0.230769</td>\n",
       "      <td>-0.054945</td>\n",
       "      <td>-0.236264</td>\n",
       "      <td>-0.076923</td>\n",
       "    </tr>\n",
       "    <tr>\n",
       "      <th>3</th>\n",
       "      <td>0</td>\n",
       "      <td>-0.394444</td>\n",
       "      <td>0.0</td>\n",
       "      <td>-0.250000</td>\n",
       "      <td>-0.394444</td>\n",
       "      <td>-0.166667</td>\n",
       "      <td>-0.311111</td>\n",
       "      <td>-0.211111</td>\n",
       "      <td>-0.133333</td>\n",
       "      <td>0.022222</td>\n",
       "      <td>...</td>\n",
       "      <td>-0.472222</td>\n",
       "      <td>-1.0</td>\n",
       "      <td>0.288889</td>\n",
       "      <td>-0.877778</td>\n",
       "      <td>-0.266667</td>\n",
       "      <td>-0.011111</td>\n",
       "      <td>-0.250000</td>\n",
       "      <td>-0.038889</td>\n",
       "      <td>-0.244444</td>\n",
       "      <td>-0.072222</td>\n",
       "    </tr>\n",
       "    <tr>\n",
       "      <th>4</th>\n",
       "      <td>0</td>\n",
       "      <td>-0.387435</td>\n",
       "      <td>0.0</td>\n",
       "      <td>-0.282723</td>\n",
       "      <td>-0.403141</td>\n",
       "      <td>-0.141361</td>\n",
       "      <td>-0.324607</td>\n",
       "      <td>-0.214660</td>\n",
       "      <td>-0.162304</td>\n",
       "      <td>0.078534</td>\n",
       "      <td>...</td>\n",
       "      <td>-0.429319</td>\n",
       "      <td>-1.0</td>\n",
       "      <td>0.345550</td>\n",
       "      <td>-0.837696</td>\n",
       "      <td>-0.287958</td>\n",
       "      <td>-0.041885</td>\n",
       "      <td>-0.246073</td>\n",
       "      <td>-0.052356</td>\n",
       "      <td>-0.240838</td>\n",
       "      <td>-0.068063</td>\n",
       "    </tr>\n",
       "  </tbody>\n",
       "</table>\n",
       "<p>5 rows × 43 columns</p>\n",
       "</div>"
      ],
      "text/plain": [
       "   0         1    2         3         4         5         6         7   \\\n",
       "0   0 -0.422222  0.0 -0.255556 -0.400000 -0.183333 -0.316667 -0.222222   \n",
       "1   0 -0.418478  0.0 -0.228261 -0.358696 -0.157609 -0.298913 -0.228261   \n",
       "2   0 -0.362637  0.0 -0.186813 -0.373626 -0.131868 -0.318681 -0.241758   \n",
       "3   0 -0.394444  0.0 -0.250000 -0.394444 -0.166667 -0.311111 -0.211111   \n",
       "4   0 -0.387435  0.0 -0.282723 -0.403141 -0.141361 -0.324607 -0.214660   \n",
       "\n",
       "         8         9   ...        33   34        35        36        37  \\\n",
       "0 -0.138889  0.022222  ... -0.455556 -1.0  0.311111 -0.866667 -0.266667   \n",
       "1 -0.125000  0.032609  ... -0.461957 -1.0  0.288043 -0.891304 -0.250000   \n",
       "2 -0.175824  0.104396  ... -0.340659 -1.0  0.373626 -0.807692 -0.247253   \n",
       "3 -0.133333  0.022222  ... -0.472222 -1.0  0.288889 -0.877778 -0.266667   \n",
       "4 -0.162304  0.078534  ... -0.429319 -1.0  0.345550 -0.837696 -0.287958   \n",
       "\n",
       "         38        39        40        41        42  \n",
       "0 -0.016667 -0.255556 -0.044444 -0.244444 -0.072222  \n",
       "1 -0.010870 -0.244565 -0.032609 -0.255435 -0.065217  \n",
       "2 -0.060440 -0.230769 -0.054945 -0.236264 -0.076923  \n",
       "3 -0.011111 -0.250000 -0.038889 -0.244444 -0.072222  \n",
       "4 -0.041885 -0.246073 -0.052356 -0.240838 -0.068063  \n",
       "\n",
       "[5 rows x 43 columns]"
      ]
     },
     "execution_count": 73,
     "metadata": {},
     "output_type": "execute_result"
    }
   ],
   "source": [
    "dataset = 'model/gesture_classifier/gesture_train_akshay.csv'\n",
    "#dataset = 'model/gesture_classifier/gesture_train_kailash.csv'\n",
    "\n",
    "df = pd.read_csv(dataset, header = None)\n",
    "df.head()"
   ]
  },
  {
   "cell_type": "markdown",
   "metadata": {
    "id": "s5oMH7x19hEz"
   },
   "source": [
    "# Set number of classes"
   ]
  },
  {
   "cell_type": "code",
   "execution_count": 74,
   "metadata": {
    "id": "du4kodXL9hEz"
   },
   "outputs": [],
   "source": [
    "NUM_CLASSES = 6"
   ]
  },
  {
   "cell_type": "code",
   "execution_count": 75,
   "metadata": {},
   "outputs": [
    {
     "name": "stdout",
     "output_type": "stream",
     "text": [
      "             1    2         3         4         5         6         7   \\\n",
      "0     -0.422222  0.0 -0.255556 -0.400000 -0.183333 -0.316667 -0.222222   \n",
      "1     -0.418478  0.0 -0.228261 -0.358696 -0.157609 -0.298913 -0.228261   \n",
      "2     -0.362637  0.0 -0.186813 -0.373626 -0.131868 -0.318681 -0.241758   \n",
      "3     -0.394444  0.0 -0.250000 -0.394444 -0.166667 -0.311111 -0.211111   \n",
      "4     -0.387435  0.0 -0.282723 -0.403141 -0.141361 -0.324607 -0.214660   \n",
      "...         ...  ...       ...       ...       ...       ...       ...   \n",
      "12174 -0.418079  0.0 -0.231638 -0.401130 -0.152542 -0.254237 -0.197740   \n",
      "12175 -0.467836  0.0 -0.274854 -0.397661 -0.187135 -0.245614 -0.233918   \n",
      "12176 -0.470930  0.0 -0.267442 -0.372093 -0.209302 -0.226744 -0.267442   \n",
      "12177 -0.543210  0.0 -0.327160 -0.345679 -0.265432 -0.179012 -0.259259   \n",
      "12178 -1.000000  0.0 -0.383838  0.111111  0.090909  0.202020  0.424242   \n",
      "\n",
      "             8         9         10  ...        33        34        35  \\\n",
      "0     -0.138889  0.022222 -0.288889  ... -0.455556 -1.000000  0.311111   \n",
      "1     -0.125000  0.032609 -0.250000  ... -0.461957 -1.000000  0.288043   \n",
      "2     -0.175824  0.104396 -0.203297  ... -0.340659 -1.000000  0.373626   \n",
      "3     -0.133333  0.022222 -0.277778  ... -0.472222 -1.000000  0.288889   \n",
      "4     -0.162304  0.078534 -0.219895  ... -0.429319 -1.000000  0.345550   \n",
      "...         ...       ...       ...  ...       ...       ...       ...   \n",
      "12174 -0.209040 -0.118644 -0.316384  ... -0.186441 -1.000000  0.378531   \n",
      "12175 -0.192982 -0.105263 -0.374269  ... -0.362573 -1.000000  0.304094   \n",
      "12176 -0.197674 -0.058140 -0.395349  ... -0.459302 -1.000000  0.290698   \n",
      "12177 -0.129630 -0.086420 -0.462963  ... -0.549383 -1.000000  0.351852   \n",
      "12178  0.282828  0.121212 -0.282828  ... -0.595960 -0.949495  0.898990   \n",
      "\n",
      "             36        37        38        39        40        41        42  \n",
      "0     -0.866667 -0.266667 -0.016667 -0.255556 -0.044444 -0.244444 -0.072222  \n",
      "1     -0.891304 -0.250000 -0.010870 -0.244565 -0.032609 -0.255435 -0.065217  \n",
      "2     -0.807692 -0.247253 -0.060440 -0.230769 -0.054945 -0.236264 -0.076923  \n",
      "3     -0.877778 -0.266667 -0.011111 -0.250000 -0.038889 -0.244444 -0.072222  \n",
      "4     -0.837696 -0.287958 -0.041885 -0.246073 -0.052356 -0.240838 -0.068063  \n",
      "...         ...       ...       ...       ...       ...       ...       ...  \n",
      "12174 -0.723164 -0.237288 -0.062147 -0.175141 -0.096045 -0.152542 -0.118644  \n",
      "12175 -0.748538 -0.233918 -0.052632 -0.210526 -0.081871 -0.222222 -0.116959  \n",
      "12176 -0.651163 -0.267442 -0.058140 -0.250000 -0.116279 -0.232558 -0.174419  \n",
      "12177 -0.598765 -0.320988 -0.043210 -0.308642 -0.148148 -0.271605 -0.209877  \n",
      "12178 -0.242424 -0.656566 -0.090909 -0.515152 -0.292929 -0.323232 -0.323232  \n",
      "\n",
      "[12179 rows x 42 columns]\n",
      "        0\n",
      "0       0\n",
      "1       0\n",
      "2       0\n",
      "3       0\n",
      "4       0\n",
      "...    ..\n",
      "12174  20\n",
      "12175  20\n",
      "12176  20\n",
      "12177  20\n",
      "12178  20\n",
      "\n",
      "[12179 rows x 1 columns]\n"
     ]
    }
   ],
   "source": [
    "X = df.iloc[:, 1:]\n",
    "Y = df.iloc[:, :1]\n",
    "\n",
    "# print(X.head)\n",
    "# print(Y.head)\n",
    "\n",
    "print(X)\n",
    "print(Y)"
   ]
  },
  {
   "cell_type": "markdown",
   "metadata": {
    "id": "XjnL0uso9hEz"
   },
   "source": [
    "# Dataset reading"
   ]
  },
  {
   "cell_type": "code",
   "execution_count": 76,
   "metadata": {
    "colab": {
     "base_uri": "https://localhost:8080/"
    },
    "id": "ypqky9tc9hE1",
    "outputId": "5db082bb-30e3-4110-bf63-a1ee777ecd46"
   },
   "outputs": [
    {
     "name": "stdout",
     "output_type": "stream",
     "text": [
      "\n",
      " Accuracy\n",
      "0.9876847290640394\n"
     ]
    }
   ],
   "source": [
    "X_train, X_test, Y_train, Y_test = train_test_split(X, Y,test_size = 0.30 , random_state = RANDOM_SEED)\n",
    "\n",
    "Dtree = DecisionTreeClassifier(random_state = RANDOM_SEED) \n",
    "Dtree.fit(X_train, Y_train)\n",
    "\n",
    "predictions = Dtree.predict(X_test)\n",
    "\n",
    "\n",
    "# print(classification_report(Y_test, predictions))\n",
    "\n",
    "# print(\"Confusion Matrix\")\n",
    "# print(confusion_matrix(Y_test, predictions))\n",
    "\n",
    "print(\"\\n Accuracy\")\n",
    "print(accuracy_score(Y_test, predictions))\n"
   ]
  },
  {
   "cell_type": "code",
   "execution_count": 77,
   "metadata": {},
   "outputs": [
    {
     "name": "stdout",
     "output_type": "stream",
     "text": [
      "              precision    recall  f1-score   support\n",
      "\n",
      "           0       1.00      0.99      1.00       163\n",
      "           1       0.97      1.00      0.99       166\n",
      "           2       0.99      0.99      0.99       345\n",
      "           3       0.99      1.00      0.99       213\n",
      "           4       1.00      1.00      1.00       212\n",
      "           5       1.00      1.00      1.00       420\n",
      "           6       0.96      0.94      0.95        68\n",
      "           7       1.00      1.00      1.00       239\n",
      "           8       0.99      0.99      0.99       186\n",
      "           9       1.00      1.00      1.00       182\n",
      "          10       1.00      0.84      0.91        37\n",
      "          11       0.91      0.85      0.88        46\n",
      "          12       0.97      0.96      0.97        74\n",
      "          13       0.99      1.00      1.00       118\n",
      "          14       0.99      1.00      0.99       292\n",
      "          15       0.99      0.98      0.99       119\n",
      "          16       0.98      0.98      0.98        91\n",
      "          17       0.98      0.96      0.97       188\n",
      "          18       0.94      0.97      0.95       117\n",
      "          19       1.00      1.00      1.00       210\n",
      "          20       0.98      0.99      0.99       168\n",
      "\n",
      "    accuracy                           0.99      3654\n",
      "   macro avg       0.98      0.97      0.98      3654\n",
      "weighted avg       0.99      0.99      0.99      3654\n",
      "\n",
      "Confusion Matrix\n",
      "[[162   0   0   0   0   0   0   0   0   0   0   0   0   0   0   0   0   0\n",
      "    0   0   1]\n",
      " [  0 166   0   0   0   0   0   0   0   0   0   0   0   0   0   0   0   0\n",
      "    0   0   0]\n",
      " [  0   0 343   0   0   0   1   0   0   0   0   1   0   0   0   0   0   0\n",
      "    0   0   0]\n",
      " [  0   0   0 212   0   0   0   1   0   0   0   0   0   0   0   0   0   0\n",
      "    0   0   0]\n",
      " [  0   0   0   0 212   0   0   0   0   0   0   0   0   0   0   0   0   0\n",
      "    0   0   0]\n",
      " [  0   0   0   0   0 419   0   0   1   0   0   0   0   0   0   0   0   0\n",
      "    0   0   0]\n",
      " [  0   0   0   0   0   1  64   0   0   0   0   1   1   0   0   0   0   0\n",
      "    0   0   1]\n",
      " [  0   0   0   1   0   0   0 238   0   0   0   0   0   0   0   0   0   0\n",
      "    0   0   0]\n",
      " [  0   0   0   0   0   0   0   0 185   0   0   0   0   1   0   0   0   0\n",
      "    0   0   0]\n",
      " [  0   0   0   0   0   0   0   0   0 182   0   0   0   0   0   0   0   0\n",
      "    0   0   0]\n",
      " [  0   3   0   0   0   0   0   0   0   0  31   1   0   0   0   0   1   0\n",
      "    0   0   1]\n",
      " [  0   0   3   0   0   0   2   0   0   0   0  39   1   0   1   0   0   0\n",
      "    0   0   0]\n",
      " [  0   0   0   0   0   0   0   0   0   0   0   0  71   0   3   0   0   0\n",
      "    0   0   0]\n",
      " [  0   0   0   0   0   0   0   0   0   0   0   0   0 118   0   0   0   0\n",
      "    0   0   0]\n",
      " [  0   0   0   0   0   0   0   0   0   0   0   0   0   0 292   0   0   0\n",
      "    0   0   0]\n",
      " [  0   0   0   0   0   0   0   0   0   0   0   1   0   0   0 117   1   0\n",
      "    0   0   0]\n",
      " [  0   1   0   0   0   0   0   0   0   0   0   0   0   0   0   1  89   0\n",
      "    0   0   0]\n",
      " [  0   0   0   0   0   1   0   0   0   0   0   0   0   0   0   0   0 180\n",
      "    7   0   0]\n",
      " [  0   0   0   0   0   0   0   0   0   0   0   0   0   0   0   0   0   4\n",
      "  113   0   0]\n",
      " [  0   0   0   0   0   0   0   0   0   0   0   0   0   0   0   0   0   0\n",
      "    0 210   0]\n",
      " [  0   1   0   1   0   0   0   0   0   0   0   0   0   0   0   0   0   0\n",
      "    0   0 166]]\n",
      "\n",
      " Accuracy\n",
      "0.9876847290640394\n"
     ]
    }
   ],
   "source": [
    "# Calculate and print confusion matrix and other performance measures \n",
    "print(classification_report(Y_test,predictions))\n",
    "print(\"Confusion Matrix\")\n",
    "print(confusion_matrix(Y_test,predictions))\n",
    "print(\"\\n Accuracy\")\n",
    "print(accuracy_score(Y_test,predictions))"
   ]
  },
  {
   "cell_type": "markdown",
   "metadata": {},
   "source": [
    "Saving Model"
   ]
  },
  {
   "cell_type": "code",
   "execution_count": 78,
   "metadata": {},
   "outputs": [
    {
     "data": {
      "text/plain": [
       "['DT_gesture_model_akshay.pkl']"
      ]
     },
     "execution_count": 78,
     "metadata": {},
     "output_type": "execute_result"
    }
   ],
   "source": [
    "joblib.dump(Dtree, \"DT_gesture_model_akshay.pkl\") "
   ]
  }
 ],
 "metadata": {
  "accelerator": "GPU",
  "colab": {
   "collapsed_sections": [],
   "name": "keypoint_classification_EN.ipynb",
   "provenance": [],
   "toc_visible": true
  },
  "kernelspec": {
   "display_name": ".conda",
   "language": "python",
   "name": "python3"
  },
  "language_info": {
   "codemirror_mode": {
    "name": "ipython",
    "version": 3
   },
   "file_extension": ".py",
   "mimetype": "text/x-python",
   "name": "python",
   "nbconvert_exporter": "python",
   "pygments_lexer": "ipython3",
   "version": "3.8.19"
  }
 },
 "nbformat": 4,
 "nbformat_minor": 0
}
